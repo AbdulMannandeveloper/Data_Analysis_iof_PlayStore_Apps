{
 "cells": [
  {
   "cell_type": "markdown",
   "id": "30f77008",
   "metadata": {},
   "source": [
    "# Exploratory Data Analysis of Google Play Store Apps Dataset"
   ]
  },
  {
   "cell_type": "markdown",
   "id": "26a36983",
   "metadata": {},
   "source": [
    "## Dataset Explanation"
   ]
  },
  {
   "cell_type": "markdown",
   "id": "c225348d",
   "metadata": {},
   "source": [
    "### Context\n",
    "While many public datasets (on Kaggle and the like) provide Apple App Store data, there are not many counterpart datasets available for Google Play Store apps anywhere on the web. On digging deeper, I found out that iTunes App Store page deploys a nicely indexed appendix-like structure to allow for simple and easy web scraping. On the other hand, Google Play Store uses sophisticated modern-day techniques (like dynamic page load) using JQuery making scraping more challenging.\n",
    "\n",
    "### Content\n",
    "Each app (row) has values for catergory, rating, size, and more.\n",
    "\n",
    "### Acknowledgements\n",
    "This information is scraped from the Google Play Store. This app information would not be available without it.\n",
    "\n",
    "### Inspiration\n",
    "The Play Store apps data has enormous potential to drive app-making businesses to success. Actionable insights can be drawn for developers to work on and capture the Android market!"
   ]
  },
  {
   "cell_type": "markdown",
   "id": "66a38dd6",
   "metadata": {},
   "source": [
    "[*You can access the data set by clicking here*](https://www.kaggle.com/datasets/lava18/google-play-store-apps)"
   ]
  },
  {
   "cell_type": "markdown",
   "id": "c1dfcd75",
   "metadata": {},
   "source": [
    "### About the Attributes\n",
    "\n",
    "*App*  \n",
    "Application name  \n",
    "*Category*  \n",
    "Category the app belongs to  \n",
    "*Rating*  \n",
    "Overall user rating of the app (as when scraped)    \n",
    "*Reviews*   \n",
    "Number of user reviews for the app (as when scraped)  \n",
    "*Size*  \n",
    "Size of the app (as when scraped)  \n",
    "*Installs*  \n",
    "Number of user downloads/installs for the app (as when scraped)  \n",
    "*Type*  \n",
    "Paid or Free  \n",
    "*Price*  \n",
    "Price of the app (as when scraped)  \n",
    "*Content Rating*  \n",
    "Age group the app is targeted at - Children / Mature 21+ / Adult  \n",
    "*Genres*  \n",
    "An app can belong to multiple genres (apart from its main category). For eg, a musical family game will belong to  \n",
    "*Last Updated*  \n",
    "Date when the app was last updated on Play Store (as when scraped)  \n",
    "*Current Ver*  \n",
    "Current version of the app available on Play Store (as when scraped)  \n",
    "*Android Ver*  \n",
    "Min required Android version (as when scraped)  "
   ]
  },
  {
   "cell_type": "markdown",
   "id": "e76b1857",
   "metadata": {},
   "source": [
    "## Purpose of Analaysis  \n",
    "The purpose of analysis is to answer the following questions:  \n",
    "* : What are the top ten apps by rating and download count?\n",
    "* : What are top 5 categories by rating?\n",
    "* : What are top 5 apps by price?\n",
    "* : Which Category apps have highest number of paid apps?\n",
    "* : Compare the apps by downloads specifically built for different ages people.\n",
    "* : Which szie apps are more downloaded?\n",
    "* : Which genre apps have recieved highest reviews count?\n",
    "* : Are paid apps really worthy to download?\n",
    "* : Which android version is mostly compatible for apps?\n",
    "* : Which age group apps are mostly downloaded?"
   ]
  },
  {
   "cell_type": "markdown",
   "id": "a3812272",
   "metadata": {},
   "source": [
    "*This dataset needs to be cleaned and analyzed properly so that above questions can be answered*"
   ]
  },
  {
   "cell_type": "markdown",
   "id": "2b6f7597",
   "metadata": {},
   "source": [
    "### Importing Necessary Libraries"
   ]
  },
  {
   "cell_type": "code",
   "execution_count": 1,
   "id": "19e36353",
   "metadata": {},
   "outputs": [],
   "source": [
    "import pandas as pd\n",
    "import numpy as np\n",
    "import seaborn as sns\n",
    "import matplotlib.pyplot as plt\n",
    "%matplotlib inline"
   ]
  },
  {
   "cell_type": "markdown",
   "id": "5ce9238d",
   "metadata": {},
   "source": [
    "### Reading Data"
   ]
  },
  {
   "cell_type": "code",
   "execution_count": 2,
   "id": "3f9c175f",
   "metadata": {},
   "outputs": [],
   "source": [
    "file_path = \"googleplaystore.csv\""
   ]
  },
  {
   "cell_type": "code",
   "execution_count": 3,
   "id": "63718361",
   "metadata": {},
   "outputs": [],
   "source": [
    "data = pd.read_csv(file_path)"
   ]
  },
  {
   "cell_type": "code",
   "execution_count": 4,
   "id": "5906d6ea",
   "metadata": {},
   "outputs": [
    {
     "data": {
      "text/html": [
       "<div>\n",
       "<style scoped>\n",
       "    .dataframe tbody tr th:only-of-type {\n",
       "        vertical-align: middle;\n",
       "    }\n",
       "\n",
       "    .dataframe tbody tr th {\n",
       "        vertical-align: top;\n",
       "    }\n",
       "\n",
       "    .dataframe thead th {\n",
       "        text-align: right;\n",
       "    }\n",
       "</style>\n",
       "<table border=\"1\" class=\"dataframe\">\n",
       "  <thead>\n",
       "    <tr style=\"text-align: right;\">\n",
       "      <th></th>\n",
       "      <th>App</th>\n",
       "      <th>Category</th>\n",
       "      <th>Rating</th>\n",
       "      <th>Reviews</th>\n",
       "      <th>Size</th>\n",
       "      <th>Installs</th>\n",
       "      <th>Type</th>\n",
       "      <th>Price</th>\n",
       "      <th>Content Rating</th>\n",
       "      <th>Genres</th>\n",
       "      <th>Last Updated</th>\n",
       "      <th>Current Ver</th>\n",
       "      <th>Android Ver</th>\n",
       "    </tr>\n",
       "  </thead>\n",
       "  <tbody>\n",
       "    <tr>\n",
       "      <th>0</th>\n",
       "      <td>Photo Editor &amp; Candy Camera &amp; Grid &amp; ScrapBook</td>\n",
       "      <td>ART_AND_DESIGN</td>\n",
       "      <td>4.1</td>\n",
       "      <td>159</td>\n",
       "      <td>19M</td>\n",
       "      <td>10,000+</td>\n",
       "      <td>Free</td>\n",
       "      <td>0</td>\n",
       "      <td>Everyone</td>\n",
       "      <td>Art &amp; Design</td>\n",
       "      <td>January 7, 2018</td>\n",
       "      <td>1.0.0</td>\n",
       "      <td>4.0.3 and up</td>\n",
       "    </tr>\n",
       "    <tr>\n",
       "      <th>1</th>\n",
       "      <td>Coloring book moana</td>\n",
       "      <td>ART_AND_DESIGN</td>\n",
       "      <td>3.9</td>\n",
       "      <td>967</td>\n",
       "      <td>14M</td>\n",
       "      <td>500,000+</td>\n",
       "      <td>Free</td>\n",
       "      <td>0</td>\n",
       "      <td>Everyone</td>\n",
       "      <td>Art &amp; Design;Pretend Play</td>\n",
       "      <td>January 15, 2018</td>\n",
       "      <td>2.0.0</td>\n",
       "      <td>4.0.3 and up</td>\n",
       "    </tr>\n",
       "    <tr>\n",
       "      <th>2</th>\n",
       "      <td>U Launcher Lite – FREE Live Cool Themes, Hide ...</td>\n",
       "      <td>ART_AND_DESIGN</td>\n",
       "      <td>4.7</td>\n",
       "      <td>87510</td>\n",
       "      <td>8.7M</td>\n",
       "      <td>5,000,000+</td>\n",
       "      <td>Free</td>\n",
       "      <td>0</td>\n",
       "      <td>Everyone</td>\n",
       "      <td>Art &amp; Design</td>\n",
       "      <td>August 1, 2018</td>\n",
       "      <td>1.2.4</td>\n",
       "      <td>4.0.3 and up</td>\n",
       "    </tr>\n",
       "    <tr>\n",
       "      <th>3</th>\n",
       "      <td>Sketch - Draw &amp; Paint</td>\n",
       "      <td>ART_AND_DESIGN</td>\n",
       "      <td>4.5</td>\n",
       "      <td>215644</td>\n",
       "      <td>25M</td>\n",
       "      <td>50,000,000+</td>\n",
       "      <td>Free</td>\n",
       "      <td>0</td>\n",
       "      <td>Teen</td>\n",
       "      <td>Art &amp; Design</td>\n",
       "      <td>June 8, 2018</td>\n",
       "      <td>Varies with device</td>\n",
       "      <td>4.2 and up</td>\n",
       "    </tr>\n",
       "    <tr>\n",
       "      <th>4</th>\n",
       "      <td>Pixel Draw - Number Art Coloring Book</td>\n",
       "      <td>ART_AND_DESIGN</td>\n",
       "      <td>4.3</td>\n",
       "      <td>967</td>\n",
       "      <td>2.8M</td>\n",
       "      <td>100,000+</td>\n",
       "      <td>Free</td>\n",
       "      <td>0</td>\n",
       "      <td>Everyone</td>\n",
       "      <td>Art &amp; Design;Creativity</td>\n",
       "      <td>June 20, 2018</td>\n",
       "      <td>1.1</td>\n",
       "      <td>4.4 and up</td>\n",
       "    </tr>\n",
       "  </tbody>\n",
       "</table>\n",
       "</div>"
      ],
      "text/plain": [
       "                                                 App        Category  Rating  \\\n",
       "0     Photo Editor & Candy Camera & Grid & ScrapBook  ART_AND_DESIGN     4.1   \n",
       "1                                Coloring book moana  ART_AND_DESIGN     3.9   \n",
       "2  U Launcher Lite – FREE Live Cool Themes, Hide ...  ART_AND_DESIGN     4.7   \n",
       "3                              Sketch - Draw & Paint  ART_AND_DESIGN     4.5   \n",
       "4              Pixel Draw - Number Art Coloring Book  ART_AND_DESIGN     4.3   \n",
       "\n",
       "  Reviews  Size     Installs  Type Price Content Rating  \\\n",
       "0     159   19M      10,000+  Free     0       Everyone   \n",
       "1     967   14M     500,000+  Free     0       Everyone   \n",
       "2   87510  8.7M   5,000,000+  Free     0       Everyone   \n",
       "3  215644   25M  50,000,000+  Free     0           Teen   \n",
       "4     967  2.8M     100,000+  Free     0       Everyone   \n",
       "\n",
       "                      Genres      Last Updated         Current Ver  \\\n",
       "0               Art & Design   January 7, 2018               1.0.0   \n",
       "1  Art & Design;Pretend Play  January 15, 2018               2.0.0   \n",
       "2               Art & Design    August 1, 2018               1.2.4   \n",
       "3               Art & Design      June 8, 2018  Varies with device   \n",
       "4    Art & Design;Creativity     June 20, 2018                 1.1   \n",
       "\n",
       "    Android Ver  \n",
       "0  4.0.3 and up  \n",
       "1  4.0.3 and up  \n",
       "2  4.0.3 and up  \n",
       "3    4.2 and up  \n",
       "4    4.4 and up  "
      ]
     },
     "execution_count": 4,
     "metadata": {},
     "output_type": "execute_result"
    }
   ],
   "source": [
    "data.head()"
   ]
  },
  {
   "cell_type": "markdown",
   "id": "84188986",
   "metadata": {},
   "source": [
    "### Exploring the dataset"
   ]
  },
  {
   "cell_type": "markdown",
   "id": "0c9985fd",
   "metadata": {},
   "source": [
    "#### Dealing with missing values"
   ]
  },
  {
   "cell_type": "code",
   "execution_count": 5,
   "id": "8098b30c",
   "metadata": {},
   "outputs": [
    {
     "data": {
      "text/plain": [
       "App                  0\n",
       "Category             0\n",
       "Rating            1474\n",
       "Reviews              0\n",
       "Size                 0\n",
       "Installs             0\n",
       "Type                 1\n",
       "Price                0\n",
       "Content Rating       1\n",
       "Genres               0\n",
       "Last Updated         0\n",
       "Current Ver          8\n",
       "Android Ver          3\n",
       "dtype: int64"
      ]
     },
     "execution_count": 5,
     "metadata": {},
     "output_type": "execute_result"
    }
   ],
   "source": [
    "# total missing values in each column\n",
    "data.isnull().sum()"
   ]
  },
  {
   "cell_type": "markdown",
   "id": "3e0dae89",
   "metadata": {},
   "source": [
    "Dealing with Type apps"
   ]
  },
  {
   "cell_type": "code",
   "execution_count": 6,
   "id": "c1af95b1",
   "metadata": {},
   "outputs": [
    {
     "name": "stdout",
     "output_type": "stream",
     "text": [
      "0    Free\n",
      "Name: Type, dtype: object\n"
     ]
    }
   ],
   "source": [
    "replacement_for_Type = data['Type'].mode()\n",
    "print(replacement_for_Type)"
   ]
  },
  {
   "cell_type": "code",
   "execution_count": 7,
   "id": "71e9622d",
   "metadata": {},
   "outputs": [],
   "source": [
    "data['Type'].replace('0' , \"Free\", inplace = True)"
   ]
  },
  {
   "cell_type": "code",
   "execution_count": 8,
   "id": "ca3e243e",
   "metadata": {},
   "outputs": [],
   "source": [
    "data['Type'].replace(np.nan , \"Free\", inplace = True)"
   ]
  },
  {
   "cell_type": "code",
   "execution_count": 9,
   "id": "2ce6eafc",
   "metadata": {},
   "outputs": [
    {
     "data": {
      "text/plain": [
       "array(['Free', 'Paid'], dtype=object)"
      ]
     },
     "execution_count": 9,
     "metadata": {},
     "output_type": "execute_result"
    }
   ],
   "source": [
    "data['Type'].unique()"
   ]
  },
  {
   "cell_type": "markdown",
   "id": "f2fc50eb",
   "metadata": {},
   "source": [
    "Dealing with missing values of Content Rating"
   ]
  },
  {
   "cell_type": "code",
   "execution_count": 10,
   "id": "a6d673ee",
   "metadata": {},
   "outputs": [
    {
     "data": {
      "text/plain": [
       "array(['Everyone', 'Teen', 'Everyone 10+', 'Mature 17+',\n",
       "       'Adults only 18+', 'Unrated', nan], dtype=object)"
      ]
     },
     "execution_count": 10,
     "metadata": {},
     "output_type": "execute_result"
    }
   ],
   "source": [
    "data['Content Rating'].unique()"
   ]
  },
  {
   "cell_type": "code",
   "execution_count": 11,
   "id": "1ce37e3c",
   "metadata": {},
   "outputs": [
    {
     "name": "stdout",
     "output_type": "stream",
     "text": [
      "0    Everyone\n",
      "Name: Content Rating, dtype: object\n"
     ]
    }
   ],
   "source": [
    "value = data['Content Rating'].mode()\n",
    "print(value)"
   ]
  },
  {
   "cell_type": "code",
   "execution_count": 12,
   "id": "460200de",
   "metadata": {},
   "outputs": [],
   "source": [
    "data['Content Rating'].replace(np.nan , value[0] , inplace = True)"
   ]
  },
  {
   "cell_type": "code",
   "execution_count": 13,
   "id": "618938a6",
   "metadata": {},
   "outputs": [
    {
     "data": {
      "text/plain": [
       "array(['Everyone', 'Teen', 'Everyone 10+', 'Mature 17+',\n",
       "       'Adults only 18+', 'Unrated'], dtype=object)"
      ]
     },
     "execution_count": 13,
     "metadata": {},
     "output_type": "execute_result"
    }
   ],
   "source": [
    "data['Content Rating'].unique()"
   ]
  },
  {
   "cell_type": "markdown",
   "id": "a73f87df",
   "metadata": {},
   "source": [
    "Dealing with missing values of Current Ver"
   ]
  },
  {
   "cell_type": "markdown",
   "id": "4c162425",
   "metadata": {},
   "source": [
    "As per questions, we do not need this column for our analysis, so we can ignore this"
   ]
  },
  {
   "cell_type": "markdown",
   "id": "77d89b05",
   "metadata": {},
   "source": [
    "Dealing with missing values of Android Ver"
   ]
  },
  {
   "cell_type": "code",
   "execution_count": 14,
   "id": "4b549baf",
   "metadata": {},
   "outputs": [
    {
     "data": {
      "text/plain": [
       "array(['4.0.3 and up', '4.2 and up', '4.4 and up', '2.3 and up',\n",
       "       '3.0 and up', '4.1 and up', '4.0 and up', '2.3.3 and up',\n",
       "       'Varies with device', '2.2 and up', '5.0 and up', '6.0 and up',\n",
       "       '1.6 and up', '1.5 and up', '2.1 and up', '7.0 and up',\n",
       "       '5.1 and up', '4.3 and up', '4.0.3 - 7.1.1', '2.0 and up',\n",
       "       '3.2 and up', '4.4W and up', '7.1 and up', '7.0 - 7.1.1',\n",
       "       '8.0 and up', '5.0 - 8.0', '3.1 and up', '2.0.1 and up',\n",
       "       '4.1 - 7.1.1', nan, '5.0 - 6.0', '1.0 and up', '2.2 - 7.1.1',\n",
       "       '5.0 - 7.1.1'], dtype=object)"
      ]
     },
     "execution_count": 14,
     "metadata": {},
     "output_type": "execute_result"
    }
   ],
   "source": [
    "data['Android Ver'].unique()"
   ]
  },
  {
   "cell_type": "code",
   "execution_count": 15,
   "id": "bcd12d85",
   "metadata": {},
   "outputs": [
    {
     "name": "stdout",
     "output_type": "stream",
     "text": [
      "0    4.1 and up\n",
      "Name: Android Ver, dtype: object\n"
     ]
    }
   ],
   "source": [
    "value = data['Android Ver'].mode()\n",
    "print(value)"
   ]
  },
  {
   "cell_type": "code",
   "execution_count": 16,
   "id": "56713f92",
   "metadata": {},
   "outputs": [],
   "source": [
    "data['Android Ver'].replace(np.nan , value[0] , inplace = True)"
   ]
  },
  {
   "cell_type": "code",
   "execution_count": 17,
   "id": "4591b878",
   "metadata": {},
   "outputs": [
    {
     "data": {
      "text/plain": [
       "array(['4.0.3 and up', '4.2 and up', '4.4 and up', '2.3 and up',\n",
       "       '3.0 and up', '4.1 and up', '4.0 and up', '2.3.3 and up',\n",
       "       'Varies with device', '2.2 and up', '5.0 and up', '6.0 and up',\n",
       "       '1.6 and up', '1.5 and up', '2.1 and up', '7.0 and up',\n",
       "       '5.1 and up', '4.3 and up', '4.0.3 - 7.1.1', '2.0 and up',\n",
       "       '3.2 and up', '4.4W and up', '7.1 and up', '7.0 - 7.1.1',\n",
       "       '8.0 and up', '5.0 - 8.0', '3.1 and up', '2.0.1 and up',\n",
       "       '4.1 - 7.1.1', '5.0 - 6.0', '1.0 and up', '2.2 - 7.1.1',\n",
       "       '5.0 - 7.1.1'], dtype=object)"
      ]
     },
     "execution_count": 17,
     "metadata": {},
     "output_type": "execute_result"
    }
   ],
   "source": [
    "data['Android Ver'].unique()"
   ]
  },
  {
   "cell_type": "markdown",
   "id": "c0b2c50d",
   "metadata": {},
   "source": [
    "Dealing with missing values of rating column"
   ]
  },
  {
   "cell_type": "code",
   "execution_count": 18,
   "id": "711cdf15",
   "metadata": {},
   "outputs": [
    {
     "name": "stdout",
     "output_type": "stream",
     "text": [
      "4.19\n"
     ]
    }
   ],
   "source": [
    "mean = data['Rating'].mean()\n",
    "mean = format(mean, '.2f')\n",
    "print(mean)"
   ]
  },
  {
   "cell_type": "code",
   "execution_count": 19,
   "id": "a5808275",
   "metadata": {},
   "outputs": [],
   "source": [
    "data['Rating'].replace(np.NaN , mean , inplace = True)"
   ]
  },
  {
   "cell_type": "code",
   "execution_count": 20,
   "id": "904436ec",
   "metadata": {},
   "outputs": [
    {
     "data": {
      "text/plain": [
       "0"
      ]
     },
     "execution_count": 20,
     "metadata": {},
     "output_type": "execute_result"
    }
   ],
   "source": [
    "data['Rating'].isnull().sum()"
   ]
  },
  {
   "cell_type": "markdown",
   "id": "6444d1e1",
   "metadata": {},
   "source": [
    "##### Checking the datatypes"
   ]
  },
  {
   "cell_type": "code",
   "execution_count": 21,
   "id": "f300db88",
   "metadata": {},
   "outputs": [
    {
     "data": {
      "text/plain": [
       "App               object\n",
       "Category          object\n",
       "Rating            object\n",
       "Reviews           object\n",
       "Size              object\n",
       "Installs          object\n",
       "Type              object\n",
       "Price             object\n",
       "Content Rating    object\n",
       "Genres            object\n",
       "Last Updated      object\n",
       "Current Ver       object\n",
       "Android Ver       object\n",
       "dtype: object"
      ]
     },
     "execution_count": 21,
     "metadata": {},
     "output_type": "execute_result"
    }
   ],
   "source": [
    "data.dtypes"
   ]
  },
  {
   "cell_type": "markdown",
   "id": "c2837eb8",
   "metadata": {},
   "source": [
    "*Ideal Data Types for each column*  \n",
    "App : object  \n",
    "Category : object  \n",
    "Rating : float64  \n",
    "Reviews : Integer64  \n",
    "Size : object(Can work as per Requirement)  \n",
    "Installs : Integer64  \n",
    "Type : Object  \n",
    "Price : float64  \n",
    "Content Rating : Object  \n",
    "Genres : Object  \n",
    "Last Updated : Object  \n",
    "Current Ver : Object  \n",
    "Android Ver : Object  "
   ]
  },
  {
   "cell_type": "markdown",
   "id": "b194a221",
   "metadata": {},
   "source": [
    "Changing the data type of reviews column"
   ]
  },
  {
   "cell_type": "code",
   "execution_count": 22,
   "id": "9131e15e",
   "metadata": {},
   "outputs": [
    {
     "data": {
      "text/plain": [
       "dtype('O')"
      ]
     },
     "execution_count": 22,
     "metadata": {},
     "output_type": "execute_result"
    }
   ],
   "source": [
    "data['Reviews'].dtype"
   ]
  },
  {
   "cell_type": "code",
   "execution_count": 23,
   "id": "b432576a",
   "metadata": {},
   "outputs": [
    {
     "data": {
      "text/plain": [
       "0       159\n",
       "1       967\n",
       "2     87510\n",
       "3    215644\n",
       "4       967\n",
       "Name: Reviews, dtype: object"
      ]
     },
     "execution_count": 23,
     "metadata": {},
     "output_type": "execute_result"
    }
   ],
   "source": [
    "data['Reviews'].head()"
   ]
  },
  {
   "cell_type": "code",
   "execution_count": 24,
   "id": "a08ee558",
   "metadata": {},
   "outputs": [],
   "source": [
    "for index, entry in data['Reviews'].iteritems():\n",
    "    if \"M\" in entry:\n",
    "        data['Reviews'][index] = '3000000'"
   ]
  },
  {
   "cell_type": "code",
   "execution_count": 25,
   "id": "24d06960",
   "metadata": {},
   "outputs": [],
   "source": [
    "for index, entry in data['Reviews'].iteritems():\n",
    "    if \"M\" in entry:\n",
    "        print(entry)"
   ]
  },
  {
   "cell_type": "code",
   "execution_count": 26,
   "id": "84a129be",
   "metadata": {},
   "outputs": [],
   "source": [
    "# Now changing the data type of complete column\n",
    "data['Reviews'] = data['Reviews'].astype(int)"
   ]
  },
  {
   "cell_type": "markdown",
   "id": "96e5b358",
   "metadata": {},
   "source": [
    "Now checking the data type of all columns"
   ]
  },
  {
   "cell_type": "code",
   "execution_count": 27,
   "id": "f4d23876",
   "metadata": {},
   "outputs": [
    {
     "name": "stdout",
     "output_type": "stream",
     "text": [
      "<class 'pandas.core.frame.DataFrame'>\n",
      "RangeIndex: 10841 entries, 0 to 10840\n",
      "Data columns (total 13 columns):\n",
      " #   Column          Non-Null Count  Dtype \n",
      "---  ------          --------------  ----- \n",
      " 0   App             10841 non-null  object\n",
      " 1   Category        10841 non-null  object\n",
      " 2   Rating          10841 non-null  object\n",
      " 3   Reviews         10841 non-null  int32 \n",
      " 4   Size            10841 non-null  object\n",
      " 5   Installs        10841 non-null  object\n",
      " 6   Type            10841 non-null  object\n",
      " 7   Price           10841 non-null  object\n",
      " 8   Content Rating  10841 non-null  object\n",
      " 9   Genres          10841 non-null  object\n",
      " 10  Last Updated    10841 non-null  object\n",
      " 11  Current Ver     10833 non-null  object\n",
      " 12  Android Ver     10841 non-null  object\n",
      "dtypes: int32(1), object(12)\n",
      "memory usage: 1.0+ MB\n"
     ]
    }
   ],
   "source": [
    "data.info()"
   ]
  },
  {
   "cell_type": "markdown",
   "id": "b32c8751",
   "metadata": {},
   "source": [
    "*Changing data type of Rating column to Float*"
   ]
  },
  {
   "cell_type": "code",
   "execution_count": 28,
   "id": "b2c160e9",
   "metadata": {},
   "outputs": [],
   "source": [
    "data['Rating'] = data['Rating'].astype(float)"
   ]
  },
  {
   "cell_type": "code",
   "execution_count": 29,
   "id": "e31904b1",
   "metadata": {},
   "outputs": [
    {
     "name": "stdout",
     "output_type": "stream",
     "text": [
      "<class 'pandas.core.frame.DataFrame'>\n",
      "RangeIndex: 10841 entries, 0 to 10840\n",
      "Data columns (total 13 columns):\n",
      " #   Column          Non-Null Count  Dtype  \n",
      "---  ------          --------------  -----  \n",
      " 0   App             10841 non-null  object \n",
      " 1   Category        10841 non-null  object \n",
      " 2   Rating          10841 non-null  float64\n",
      " 3   Reviews         10841 non-null  int32  \n",
      " 4   Size            10841 non-null  object \n",
      " 5   Installs        10841 non-null  object \n",
      " 6   Type            10841 non-null  object \n",
      " 7   Price           10841 non-null  object \n",
      " 8   Content Rating  10841 non-null  object \n",
      " 9   Genres          10841 non-null  object \n",
      " 10  Last Updated    10841 non-null  object \n",
      " 11  Current Ver     10833 non-null  object \n",
      " 12  Android Ver     10841 non-null  object \n",
      "dtypes: float64(1), int32(1), object(11)\n",
      "memory usage: 1.0+ MB\n"
     ]
    }
   ],
   "source": [
    "data.info()"
   ]
  },
  {
   "cell_type": "markdown",
   "id": "e1f2eac6",
   "metadata": {},
   "source": [
    "*Changing the data type of installs column to Integer after removing '+' sign*"
   ]
  },
  {
   "cell_type": "code",
   "execution_count": 30,
   "id": "867441b0",
   "metadata": {},
   "outputs": [
    {
     "data": {
      "text/plain": [
       "0        10,000+\n",
       "1       500,000+\n",
       "2     5,000,000+\n",
       "3    50,000,000+\n",
       "4       100,000+\n",
       "Name: Installs, dtype: object"
      ]
     },
     "execution_count": 30,
     "metadata": {},
     "output_type": "execute_result"
    }
   ],
   "source": [
    "data['Installs'].head()"
   ]
  },
  {
   "cell_type": "code",
   "execution_count": 31,
   "id": "8bf259ba",
   "metadata": {},
   "outputs": [
    {
     "name": "stderr",
     "output_type": "stream",
     "text": [
      "2024-03-05 20:08:37,176 [15744] WARNING  py.warnings:109: [JupyterRequire] C:\\Users\\HP\\AppData\\Local\\Temp\\ipykernel_15744\\3403488246.py:3: FutureWarning: The default value of regex will change from True to False in a future version. In addition, single character regular expressions will *not* be treated as literal strings when regex=True.\n",
      "  data['Installs'] = data['Installs'].str.replace(character_to_delete, '')\n",
      "\n"
     ]
    }
   ],
   "source": [
    "#As there is a plus sign, so we will remove it first\n",
    "character_to_delete = '+'\n",
    "data['Installs'] = data['Installs'].str.replace(character_to_delete, '')"
   ]
  },
  {
   "cell_type": "code",
   "execution_count": 32,
   "id": "e47d6bd1",
   "metadata": {},
   "outputs": [
    {
     "data": {
      "text/plain": [
       "0        10,000\n",
       "1       500,000\n",
       "2     5,000,000\n",
       "3    50,000,000\n",
       "4       100,000\n",
       "Name: Installs, dtype: object"
      ]
     },
     "execution_count": 32,
     "metadata": {},
     "output_type": "execute_result"
    }
   ],
   "source": [
    "data['Installs'].head()"
   ]
  },
  {
   "cell_type": "code",
   "execution_count": 33,
   "id": "bb9351fe",
   "metadata": {},
   "outputs": [],
   "source": [
    "# We also have to remove coma from the rows\n",
    "character_to_delete = ','\n",
    "data['Installs'] = data['Installs'].str.replace(character_to_delete, '')\n"
   ]
  },
  {
   "cell_type": "code",
   "execution_count": 34,
   "id": "817fdf70",
   "metadata": {},
   "outputs": [
    {
     "data": {
      "text/html": [
       "<div>\n",
       "<style scoped>\n",
       "    .dataframe tbody tr th:only-of-type {\n",
       "        vertical-align: middle;\n",
       "    }\n",
       "\n",
       "    .dataframe tbody tr th {\n",
       "        vertical-align: top;\n",
       "    }\n",
       "\n",
       "    .dataframe thead th {\n",
       "        text-align: right;\n",
       "    }\n",
       "</style>\n",
       "<table border=\"1\" class=\"dataframe\">\n",
       "  <thead>\n",
       "    <tr style=\"text-align: right;\">\n",
       "      <th></th>\n",
       "      <th>App</th>\n",
       "      <th>Category</th>\n",
       "      <th>Rating</th>\n",
       "      <th>Reviews</th>\n",
       "      <th>Size</th>\n",
       "      <th>Installs</th>\n",
       "      <th>Type</th>\n",
       "      <th>Price</th>\n",
       "      <th>Content Rating</th>\n",
       "      <th>Genres</th>\n",
       "      <th>Last Updated</th>\n",
       "      <th>Current Ver</th>\n",
       "      <th>Android Ver</th>\n",
       "    </tr>\n",
       "  </thead>\n",
       "  <tbody>\n",
       "    <tr>\n",
       "      <th>10472</th>\n",
       "      <td>Life Made WI-Fi Touchscreen Photo Frame</td>\n",
       "      <td>1.9</td>\n",
       "      <td>19.0</td>\n",
       "      <td>3000000</td>\n",
       "      <td>1,000+</td>\n",
       "      <td>Free</td>\n",
       "      <td>Free</td>\n",
       "      <td>Everyone</td>\n",
       "      <td>Everyone</td>\n",
       "      <td>February 11, 2018</td>\n",
       "      <td>1.0.19</td>\n",
       "      <td>4.0 and up</td>\n",
       "      <td>4.1 and up</td>\n",
       "    </tr>\n",
       "  </tbody>\n",
       "</table>\n",
       "</div>"
      ],
      "text/plain": [
       "                                           App Category  Rating  Reviews  \\\n",
       "10472  Life Made WI-Fi Touchscreen Photo Frame      1.9    19.0  3000000   \n",
       "\n",
       "         Size Installs  Type     Price Content Rating             Genres  \\\n",
       "10472  1,000+     Free  Free  Everyone       Everyone  February 11, 2018   \n",
       "\n",
       "      Last Updated Current Ver Android Ver  \n",
       "10472       1.0.19  4.0 and up  4.1 and up  "
      ]
     },
     "execution_count": 34,
     "metadata": {},
     "output_type": "execute_result"
    }
   ],
   "source": [
    "data[data['Installs'] == 'Free']"
   ]
  },
  {
   "cell_type": "markdown",
   "id": "960b10af",
   "metadata": {},
   "source": [
    "As it can be seen that above row contain ambiguous data, so we will delete the row"
   ]
  },
  {
   "cell_type": "code",
   "execution_count": 35,
   "id": "1aa32efd",
   "metadata": {},
   "outputs": [],
   "source": [
    "data = data.drop(data[data['Installs'] == 'Free'].index)"
   ]
  },
  {
   "cell_type": "code",
   "execution_count": 36,
   "id": "3006b01c",
   "metadata": {},
   "outputs": [
    {
     "data": {
      "text/html": [
       "<div>\n",
       "<style scoped>\n",
       "    .dataframe tbody tr th:only-of-type {\n",
       "        vertical-align: middle;\n",
       "    }\n",
       "\n",
       "    .dataframe tbody tr th {\n",
       "        vertical-align: top;\n",
       "    }\n",
       "\n",
       "    .dataframe thead th {\n",
       "        text-align: right;\n",
       "    }\n",
       "</style>\n",
       "<table border=\"1\" class=\"dataframe\">\n",
       "  <thead>\n",
       "    <tr style=\"text-align: right;\">\n",
       "      <th></th>\n",
       "      <th>App</th>\n",
       "      <th>Category</th>\n",
       "      <th>Rating</th>\n",
       "      <th>Reviews</th>\n",
       "      <th>Size</th>\n",
       "      <th>Installs</th>\n",
       "      <th>Type</th>\n",
       "      <th>Price</th>\n",
       "      <th>Content Rating</th>\n",
       "      <th>Genres</th>\n",
       "      <th>Last Updated</th>\n",
       "      <th>Current Ver</th>\n",
       "      <th>Android Ver</th>\n",
       "    </tr>\n",
       "  </thead>\n",
       "  <tbody>\n",
       "  </tbody>\n",
       "</table>\n",
       "</div>"
      ],
      "text/plain": [
       "Empty DataFrame\n",
       "Columns: [App, Category, Rating, Reviews, Size, Installs, Type, Price, Content Rating, Genres, Last Updated, Current Ver, Android Ver]\n",
       "Index: []"
      ]
     },
     "execution_count": 36,
     "metadata": {},
     "output_type": "execute_result"
    }
   ],
   "source": [
    "data[data['Installs'] == 'Free']"
   ]
  },
  {
   "cell_type": "markdown",
   "id": "dad2ea95",
   "metadata": {},
   "source": [
    "Hence it is deleted  \n",
    "Now, we will change the data type of the column"
   ]
  },
  {
   "cell_type": "code",
   "execution_count": 37,
   "id": "1572f6ba",
   "metadata": {},
   "outputs": [],
   "source": [
    "data['Installs'] = data['Installs'].astype(int)"
   ]
  },
  {
   "cell_type": "code",
   "execution_count": 38,
   "id": "168600e5",
   "metadata": {},
   "outputs": [
    {
     "name": "stdout",
     "output_type": "stream",
     "text": [
      "<class 'pandas.core.frame.DataFrame'>\n",
      "Int64Index: 10840 entries, 0 to 10840\n",
      "Data columns (total 13 columns):\n",
      " #   Column          Non-Null Count  Dtype  \n",
      "---  ------          --------------  -----  \n",
      " 0   App             10840 non-null  object \n",
      " 1   Category        10840 non-null  object \n",
      " 2   Rating          10840 non-null  float64\n",
      " 3   Reviews         10840 non-null  int32  \n",
      " 4   Size            10840 non-null  object \n",
      " 5   Installs        10840 non-null  int32  \n",
      " 6   Type            10840 non-null  object \n",
      " 7   Price           10840 non-null  object \n",
      " 8   Content Rating  10840 non-null  object \n",
      " 9   Genres          10840 non-null  object \n",
      " 10  Last Updated    10840 non-null  object \n",
      " 11  Current Ver     10832 non-null  object \n",
      " 12  Android Ver     10840 non-null  object \n",
      "dtypes: float64(1), int32(2), object(10)\n",
      "memory usage: 1.1+ MB\n"
     ]
    }
   ],
   "source": [
    "data.info()"
   ]
  },
  {
   "cell_type": "markdown",
   "id": "84963c45",
   "metadata": {},
   "source": [
    "Now we have to change the data type of this column but first we will check how data is stored in this column and if any non numeric value is also there"
   ]
  },
  {
   "cell_type": "code",
   "execution_count": 39,
   "id": "1aeac1b3",
   "metadata": {},
   "outputs": [
    {
     "data": {
      "text/plain": [
       "array(['0', '$4.99', '$3.99', '$6.99', '$1.49', '$2.99', '$7.99', '$5.99',\n",
       "       '$3.49', '$1.99', '$9.99', '$7.49', '$0.99', '$9.00', '$5.49',\n",
       "       '$10.00', '$24.99', '$11.99', '$79.99', '$16.99', '$14.99',\n",
       "       '$1.00', '$29.99', '$12.99', '$2.49', '$10.99', '$1.50', '$19.99',\n",
       "       '$15.99', '$33.99', '$74.99', '$39.99', '$3.95', '$4.49', '$1.70',\n",
       "       '$8.99', '$2.00', '$3.88', '$25.99', '$399.99', '$17.99',\n",
       "       '$400.00', '$3.02', '$1.76', '$4.84', '$4.77', '$1.61', '$2.50',\n",
       "       '$1.59', '$6.49', '$1.29', '$5.00', '$13.99', '$299.99', '$379.99',\n",
       "       '$37.99', '$18.99', '$389.99', '$19.90', '$8.49', '$1.75',\n",
       "       '$14.00', '$4.85', '$46.99', '$109.99', '$154.99', '$3.08',\n",
       "       '$2.59', '$4.80', '$1.96', '$19.40', '$3.90', '$4.59', '$15.46',\n",
       "       '$3.04', '$4.29', '$2.60', '$3.28', '$4.60', '$28.99', '$2.95',\n",
       "       '$2.90', '$1.97', '$200.00', '$89.99', '$2.56', '$30.99', '$3.61',\n",
       "       '$394.99', '$1.26', '$1.20', '$1.04'], dtype=object)"
      ]
     },
     "execution_count": 39,
     "metadata": {},
     "output_type": "execute_result"
    }
   ],
   "source": [
    "data['Price'].unique()"
   ]
  },
  {
   "cell_type": "code",
   "execution_count": 40,
   "id": "0760f7b2",
   "metadata": {},
   "outputs": [
    {
     "name": "stderr",
     "output_type": "stream",
     "text": [
      "2024-03-05 20:08:40,215 [15744] WARNING  py.warnings:109: [JupyterRequire] C:\\Users\\HP\\AppData\\Local\\Temp\\ipykernel_15744\\3665411058.py:3: FutureWarning: The default value of regex will change from True to False in a future version. In addition, single character regular expressions will *not* be treated as literal strings when regex=True.\n",
      "  data['Price'] = data['Price'].str.replace(character_to_delete, '')\n",
      "\n"
     ]
    }
   ],
   "source": [
    "# Deleting '$' sign\n",
    "character_to_delete = '$'\n",
    "data['Price'] = data['Price'].str.replace(character_to_delete, '')"
   ]
  },
  {
   "cell_type": "code",
   "execution_count": 41,
   "id": "b2907855",
   "metadata": {},
   "outputs": [
    {
     "data": {
      "text/plain": [
       "0    0\n",
       "1    0\n",
       "2    0\n",
       "3    0\n",
       "4    0\n",
       "Name: Price, dtype: object"
      ]
     },
     "execution_count": 41,
     "metadata": {},
     "output_type": "execute_result"
    }
   ],
   "source": [
    "data['Price'].head()"
   ]
  },
  {
   "cell_type": "code",
   "execution_count": 42,
   "id": "2694e7d6",
   "metadata": {},
   "outputs": [],
   "source": [
    "#Now changing the data type\n",
    "data['Price'] = data['Price'].astype(float)"
   ]
  },
  {
   "cell_type": "code",
   "execution_count": 43,
   "id": "7da28aa6",
   "metadata": {},
   "outputs": [
    {
     "name": "stdout",
     "output_type": "stream",
     "text": [
      "<class 'pandas.core.frame.DataFrame'>\n",
      "Int64Index: 10840 entries, 0 to 10840\n",
      "Data columns (total 13 columns):\n",
      " #   Column          Non-Null Count  Dtype  \n",
      "---  ------          --------------  -----  \n",
      " 0   App             10840 non-null  object \n",
      " 1   Category        10840 non-null  object \n",
      " 2   Rating          10840 non-null  float64\n",
      " 3   Reviews         10840 non-null  int32  \n",
      " 4   Size            10840 non-null  object \n",
      " 5   Installs        10840 non-null  int32  \n",
      " 6   Type            10840 non-null  object \n",
      " 7   Price           10840 non-null  float64\n",
      " 8   Content Rating  10840 non-null  object \n",
      " 9   Genres          10840 non-null  object \n",
      " 10  Last Updated    10840 non-null  object \n",
      " 11  Current Ver     10832 non-null  object \n",
      " 12  Android Ver     10840 non-null  object \n",
      "dtypes: float64(2), int32(2), object(9)\n",
      "memory usage: 1.1+ MB\n"
     ]
    }
   ],
   "source": [
    "data.info()"
   ]
  },
  {
   "cell_type": "markdown",
   "id": "85aea79e",
   "metadata": {},
   "source": [
    "### Now we will do some feature engineering by deleting some columns that are not needed to answer the questions\n"
   ]
  },
  {
   "cell_type": "markdown",
   "id": "4cd0d056",
   "metadata": {},
   "source": [
    "*As Last Update and Current Ver columns are not required for analysis, we will delete them from the dataframe*"
   ]
  },
  {
   "cell_type": "code",
   "execution_count": 44,
   "id": "c57d570b",
   "metadata": {},
   "outputs": [],
   "source": [
    "data.drop('Last Updated', axis = 1, inplace = True)"
   ]
  },
  {
   "cell_type": "code",
   "execution_count": 45,
   "id": "8284a28c",
   "metadata": {},
   "outputs": [],
   "source": [
    "data.drop('Current Ver', axis = 1, inplace = True)"
   ]
  },
  {
   "cell_type": "code",
   "execution_count": 46,
   "id": "94d12873",
   "metadata": {},
   "outputs": [
    {
     "data": {
      "text/html": [
       "<div>\n",
       "<style scoped>\n",
       "    .dataframe tbody tr th:only-of-type {\n",
       "        vertical-align: middle;\n",
       "    }\n",
       "\n",
       "    .dataframe tbody tr th {\n",
       "        vertical-align: top;\n",
       "    }\n",
       "\n",
       "    .dataframe thead th {\n",
       "        text-align: right;\n",
       "    }\n",
       "</style>\n",
       "<table border=\"1\" class=\"dataframe\">\n",
       "  <thead>\n",
       "    <tr style=\"text-align: right;\">\n",
       "      <th></th>\n",
       "      <th>App</th>\n",
       "      <th>Category</th>\n",
       "      <th>Rating</th>\n",
       "      <th>Reviews</th>\n",
       "      <th>Size</th>\n",
       "      <th>Installs</th>\n",
       "      <th>Type</th>\n",
       "      <th>Price</th>\n",
       "      <th>Content Rating</th>\n",
       "      <th>Genres</th>\n",
       "      <th>Android Ver</th>\n",
       "    </tr>\n",
       "  </thead>\n",
       "  <tbody>\n",
       "    <tr>\n",
       "      <th>0</th>\n",
       "      <td>Photo Editor &amp; Candy Camera &amp; Grid &amp; ScrapBook</td>\n",
       "      <td>ART_AND_DESIGN</td>\n",
       "      <td>4.1</td>\n",
       "      <td>159</td>\n",
       "      <td>19M</td>\n",
       "      <td>10000</td>\n",
       "      <td>Free</td>\n",
       "      <td>0.0</td>\n",
       "      <td>Everyone</td>\n",
       "      <td>Art &amp; Design</td>\n",
       "      <td>4.0.3 and up</td>\n",
       "    </tr>\n",
       "    <tr>\n",
       "      <th>1</th>\n",
       "      <td>Coloring book moana</td>\n",
       "      <td>ART_AND_DESIGN</td>\n",
       "      <td>3.9</td>\n",
       "      <td>967</td>\n",
       "      <td>14M</td>\n",
       "      <td>500000</td>\n",
       "      <td>Free</td>\n",
       "      <td>0.0</td>\n",
       "      <td>Everyone</td>\n",
       "      <td>Art &amp; Design;Pretend Play</td>\n",
       "      <td>4.0.3 and up</td>\n",
       "    </tr>\n",
       "    <tr>\n",
       "      <th>2</th>\n",
       "      <td>U Launcher Lite – FREE Live Cool Themes, Hide ...</td>\n",
       "      <td>ART_AND_DESIGN</td>\n",
       "      <td>4.7</td>\n",
       "      <td>87510</td>\n",
       "      <td>8.7M</td>\n",
       "      <td>5000000</td>\n",
       "      <td>Free</td>\n",
       "      <td>0.0</td>\n",
       "      <td>Everyone</td>\n",
       "      <td>Art &amp; Design</td>\n",
       "      <td>4.0.3 and up</td>\n",
       "    </tr>\n",
       "    <tr>\n",
       "      <th>3</th>\n",
       "      <td>Sketch - Draw &amp; Paint</td>\n",
       "      <td>ART_AND_DESIGN</td>\n",
       "      <td>4.5</td>\n",
       "      <td>215644</td>\n",
       "      <td>25M</td>\n",
       "      <td>50000000</td>\n",
       "      <td>Free</td>\n",
       "      <td>0.0</td>\n",
       "      <td>Teen</td>\n",
       "      <td>Art &amp; Design</td>\n",
       "      <td>4.2 and up</td>\n",
       "    </tr>\n",
       "    <tr>\n",
       "      <th>4</th>\n",
       "      <td>Pixel Draw - Number Art Coloring Book</td>\n",
       "      <td>ART_AND_DESIGN</td>\n",
       "      <td>4.3</td>\n",
       "      <td>967</td>\n",
       "      <td>2.8M</td>\n",
       "      <td>100000</td>\n",
       "      <td>Free</td>\n",
       "      <td>0.0</td>\n",
       "      <td>Everyone</td>\n",
       "      <td>Art &amp; Design;Creativity</td>\n",
       "      <td>4.4 and up</td>\n",
       "    </tr>\n",
       "  </tbody>\n",
       "</table>\n",
       "</div>"
      ],
      "text/plain": [
       "                                                 App        Category  Rating  \\\n",
       "0     Photo Editor & Candy Camera & Grid & ScrapBook  ART_AND_DESIGN     4.1   \n",
       "1                                Coloring book moana  ART_AND_DESIGN     3.9   \n",
       "2  U Launcher Lite – FREE Live Cool Themes, Hide ...  ART_AND_DESIGN     4.7   \n",
       "3                              Sketch - Draw & Paint  ART_AND_DESIGN     4.5   \n",
       "4              Pixel Draw - Number Art Coloring Book  ART_AND_DESIGN     4.3   \n",
       "\n",
       "   Reviews  Size  Installs  Type  Price Content Rating  \\\n",
       "0      159   19M     10000  Free    0.0       Everyone   \n",
       "1      967   14M    500000  Free    0.0       Everyone   \n",
       "2    87510  8.7M   5000000  Free    0.0       Everyone   \n",
       "3   215644   25M  50000000  Free    0.0           Teen   \n",
       "4      967  2.8M    100000  Free    0.0       Everyone   \n",
       "\n",
       "                      Genres   Android Ver  \n",
       "0               Art & Design  4.0.3 and up  \n",
       "1  Art & Design;Pretend Play  4.0.3 and up  \n",
       "2               Art & Design  4.0.3 and up  \n",
       "3               Art & Design    4.2 and up  \n",
       "4    Art & Design;Creativity    4.4 and up  "
      ]
     },
     "execution_count": 46,
     "metadata": {},
     "output_type": "execute_result"
    }
   ],
   "source": [
    "data.head()"
   ]
  },
  {
   "cell_type": "markdown",
   "id": "ee1d7b73",
   "metadata": {},
   "source": [
    "### Deleting duplicated rows"
   ]
  },
  {
   "cell_type": "code",
   "execution_count": 47,
   "id": "a765a625",
   "metadata": {},
   "outputs": [],
   "source": [
    "data.drop_duplicates(keep='first', inplace=True)"
   ]
  },
  {
   "cell_type": "code",
   "execution_count": 48,
   "id": "adcda48e",
   "metadata": {},
   "outputs": [
    {
     "data": {
      "text/plain": [
       "(10355, 11)"
      ]
     },
     "execution_count": 48,
     "metadata": {},
     "output_type": "execute_result"
    }
   ],
   "source": [
    "data.shape"
   ]
  },
  {
   "cell_type": "markdown",
   "id": "292471e7",
   "metadata": {},
   "source": [
    "###  Some quick insihts from data"
   ]
  },
  {
   "cell_type": "code",
   "execution_count": 79,
   "id": "79e5131d",
   "metadata": {},
   "outputs": [
    {
     "data": {
      "text/plain": [
       "(10355, 11)"
      ]
     },
     "execution_count": 79,
     "metadata": {},
     "output_type": "execute_result"
    }
   ],
   "source": [
    "data.shape"
   ]
  },
  {
   "cell_type": "code",
   "execution_count": 80,
   "id": "31ecb96c",
   "metadata": {},
   "outputs": [
    {
     "name": "stdout",
     "output_type": "stream",
     "text": [
      "<class 'pandas.core.frame.DataFrame'>\n",
      "Int64Index: 10355 entries, 0 to 10840\n",
      "Data columns (total 11 columns):\n",
      " #   Column          Non-Null Count  Dtype  \n",
      "---  ------          --------------  -----  \n",
      " 0   App             10355 non-null  object \n",
      " 1   Category        10355 non-null  object \n",
      " 2   Rating          10355 non-null  float64\n",
      " 3   Reviews         10355 non-null  int32  \n",
      " 4   Size            10355 non-null  object \n",
      " 5   Installs        10355 non-null  int32  \n",
      " 6   Type            10355 non-null  object \n",
      " 7   Price           10355 non-null  float64\n",
      " 8   Content Rating  10355 non-null  object \n",
      " 9   Genres          10355 non-null  object \n",
      " 10  Android Ver     10355 non-null  object \n",
      "dtypes: float64(2), int32(2), object(7)\n",
      "memory usage: 889.9+ KB\n"
     ]
    }
   ],
   "source": [
    "data.info()"
   ]
  },
  {
   "cell_type": "code",
   "execution_count": 81,
   "id": "b7c5a615",
   "metadata": {},
   "outputs": [
    {
     "data": {
      "text/html": [
       "<div>\n",
       "<style scoped>\n",
       "    .dataframe tbody tr th:only-of-type {\n",
       "        vertical-align: middle;\n",
       "    }\n",
       "\n",
       "    .dataframe tbody tr th {\n",
       "        vertical-align: top;\n",
       "    }\n",
       "\n",
       "    .dataframe thead th {\n",
       "        text-align: right;\n",
       "    }\n",
       "</style>\n",
       "<table border=\"1\" class=\"dataframe\">\n",
       "  <thead>\n",
       "    <tr style=\"text-align: right;\">\n",
       "      <th></th>\n",
       "      <th>App</th>\n",
       "      <th>Category</th>\n",
       "      <th>Size</th>\n",
       "      <th>Type</th>\n",
       "      <th>Content Rating</th>\n",
       "      <th>Genres</th>\n",
       "      <th>Android Ver</th>\n",
       "    </tr>\n",
       "  </thead>\n",
       "  <tbody>\n",
       "    <tr>\n",
       "      <th>count</th>\n",
       "      <td>10355</td>\n",
       "      <td>10355</td>\n",
       "      <td>10355</td>\n",
       "      <td>10355</td>\n",
       "      <td>10355</td>\n",
       "      <td>10355</td>\n",
       "      <td>10355</td>\n",
       "    </tr>\n",
       "    <tr>\n",
       "      <th>unique</th>\n",
       "      <td>9659</td>\n",
       "      <td>33</td>\n",
       "      <td>461</td>\n",
       "      <td>2</td>\n",
       "      <td>6</td>\n",
       "      <td>119</td>\n",
       "      <td>33</td>\n",
       "    </tr>\n",
       "    <tr>\n",
       "      <th>top</th>\n",
       "      <td>ROBLOX</td>\n",
       "      <td>FAMILY</td>\n",
       "      <td>Varies with device</td>\n",
       "      <td>Free</td>\n",
       "      <td>Everyone</td>\n",
       "      <td>Tools</td>\n",
       "      <td>4.1 and up</td>\n",
       "    </tr>\n",
       "    <tr>\n",
       "      <th>freq</th>\n",
       "      <td>9</td>\n",
       "      <td>1943</td>\n",
       "      <td>1526</td>\n",
       "      <td>9590</td>\n",
       "      <td>8380</td>\n",
       "      <td>841</td>\n",
       "      <td>2381</td>\n",
       "    </tr>\n",
       "  </tbody>\n",
       "</table>\n",
       "</div>"
      ],
      "text/plain": [
       "           App Category                Size   Type Content Rating Genres  \\\n",
       "count    10355    10355               10355  10355          10355  10355   \n",
       "unique    9659       33                 461      2              6    119   \n",
       "top     ROBLOX   FAMILY  Varies with device   Free       Everyone  Tools   \n",
       "freq         9     1943                1526   9590           8380    841   \n",
       "\n",
       "       Android Ver  \n",
       "count        10355  \n",
       "unique          33  \n",
       "top     4.1 and up  \n",
       "freq          2381  "
      ]
     },
     "execution_count": 81,
     "metadata": {},
     "output_type": "execute_result"
    }
   ],
   "source": [
    "data.describe(include=['object'])"
   ]
  },
  {
   "cell_type": "code",
   "execution_count": 82,
   "id": "638e233f",
   "metadata": {},
   "outputs": [
    {
     "data": {
      "text/html": [
       "<div>\n",
       "<style scoped>\n",
       "    .dataframe tbody tr th:only-of-type {\n",
       "        vertical-align: middle;\n",
       "    }\n",
       "\n",
       "    .dataframe tbody tr th {\n",
       "        vertical-align: top;\n",
       "    }\n",
       "\n",
       "    .dataframe thead th {\n",
       "        text-align: right;\n",
       "    }\n",
       "</style>\n",
       "<table border=\"1\" class=\"dataframe\">\n",
       "  <thead>\n",
       "    <tr style=\"text-align: right;\">\n",
       "      <th></th>\n",
       "      <th>Rating</th>\n",
       "      <th>Reviews</th>\n",
       "      <th>Installs</th>\n",
       "      <th>Price</th>\n",
       "    </tr>\n",
       "  </thead>\n",
       "  <tbody>\n",
       "    <tr>\n",
       "      <th>count</th>\n",
       "      <td>10355.000000</td>\n",
       "      <td>1.035500e+04</td>\n",
       "      <td>1.035500e+04</td>\n",
       "      <td>10355.000000</td>\n",
       "    </tr>\n",
       "    <tr>\n",
       "      <th>mean</th>\n",
       "      <td>4.188184</td>\n",
       "      <td>4.059634e+05</td>\n",
       "      <td>1.415856e+07</td>\n",
       "      <td>1.031000</td>\n",
       "    </tr>\n",
       "    <tr>\n",
       "      <th>std</th>\n",
       "      <td>0.484066</td>\n",
       "      <td>2.697035e+06</td>\n",
       "      <td>8.024728e+07</td>\n",
       "      <td>16.280191</td>\n",
       "    </tr>\n",
       "    <tr>\n",
       "      <th>min</th>\n",
       "      <td>1.000000</td>\n",
       "      <td>0.000000e+00</td>\n",
       "      <td>0.000000e+00</td>\n",
       "      <td>0.000000</td>\n",
       "    </tr>\n",
       "    <tr>\n",
       "      <th>25%</th>\n",
       "      <td>4.100000</td>\n",
       "      <td>3.200000e+01</td>\n",
       "      <td>1.000000e+03</td>\n",
       "      <td>0.000000</td>\n",
       "    </tr>\n",
       "    <tr>\n",
       "      <th>50%</th>\n",
       "      <td>4.200000</td>\n",
       "      <td>1.677000e+03</td>\n",
       "      <td>1.000000e+05</td>\n",
       "      <td>0.000000</td>\n",
       "    </tr>\n",
       "    <tr>\n",
       "      <th>75%</th>\n",
       "      <td>4.500000</td>\n",
       "      <td>4.636100e+04</td>\n",
       "      <td>1.000000e+06</td>\n",
       "      <td>0.000000</td>\n",
       "    </tr>\n",
       "    <tr>\n",
       "      <th>max</th>\n",
       "      <td>5.000000</td>\n",
       "      <td>7.815831e+07</td>\n",
       "      <td>1.000000e+09</td>\n",
       "      <td>400.000000</td>\n",
       "    </tr>\n",
       "  </tbody>\n",
       "</table>\n",
       "</div>"
      ],
      "text/plain": [
       "             Rating       Reviews      Installs         Price\n",
       "count  10355.000000  1.035500e+04  1.035500e+04  10355.000000\n",
       "mean       4.188184  4.059634e+05  1.415856e+07      1.031000\n",
       "std        0.484066  2.697035e+06  8.024728e+07     16.280191\n",
       "min        1.000000  0.000000e+00  0.000000e+00      0.000000\n",
       "25%        4.100000  3.200000e+01  1.000000e+03      0.000000\n",
       "50%        4.200000  1.677000e+03  1.000000e+05      0.000000\n",
       "75%        4.500000  4.636100e+04  1.000000e+06      0.000000\n",
       "max        5.000000  7.815831e+07  1.000000e+09    400.000000"
      ]
     },
     "execution_count": 82,
     "metadata": {},
     "output_type": "execute_result"
    }
   ],
   "source": [
    "data.describe()"
   ]
  },
  {
   "cell_type": "markdown",
   "id": "7851b2cf",
   "metadata": {},
   "source": [
    "# Answering all the questions"
   ]
  },
  {
   "cell_type": "markdown",
   "id": "cfd8259e",
   "metadata": {},
   "source": [
    "## 1 - What are the top ten apps by rating and download count?"
   ]
  },
  {
   "cell_type": "code",
   "execution_count": 62,
   "id": "7238734f",
   "metadata": {},
   "outputs": [
    {
     "data": {
      "text/html": [
       "<div>\n",
       "<style scoped>\n",
       "    .dataframe tbody tr th:only-of-type {\n",
       "        vertical-align: middle;\n",
       "    }\n",
       "\n",
       "    .dataframe tbody tr th {\n",
       "        vertical-align: top;\n",
       "    }\n",
       "\n",
       "    .dataframe thead th {\n",
       "        text-align: right;\n",
       "    }\n",
       "</style>\n",
       "<table border=\"1\" class=\"dataframe\">\n",
       "  <thead>\n",
       "    <tr style=\"text-align: right;\">\n",
       "      <th></th>\n",
       "      <th>App</th>\n",
       "      <th>Rating</th>\n",
       "    </tr>\n",
       "  </thead>\n",
       "  <tbody>\n",
       "    <tr>\n",
       "      <th>2533</th>\n",
       "      <td>Zen Leaf</td>\n",
       "      <td>5.0</td>\n",
       "    </tr>\n",
       "    <tr>\n",
       "      <th>6726</th>\n",
       "      <td>COMSATS BOOK STORE FOR BS(CS)</td>\n",
       "      <td>5.0</td>\n",
       "    </tr>\n",
       "    <tr>\n",
       "      <th>9247</th>\n",
       "      <td>EC SPORTS</td>\n",
       "      <td>5.0</td>\n",
       "    </tr>\n",
       "    <tr>\n",
       "      <th>9246</th>\n",
       "      <td>Victoria EC</td>\n",
       "      <td>5.0</td>\n",
       "    </tr>\n",
       "    <tr>\n",
       "      <th>9245</th>\n",
       "      <td>EC Calgary</td>\n",
       "      <td>5.0</td>\n",
       "    </tr>\n",
       "    <tr>\n",
       "      <th>6604</th>\n",
       "      <td>BP Log lite</td>\n",
       "      <td>5.0</td>\n",
       "    </tr>\n",
       "    <tr>\n",
       "      <th>6605</th>\n",
       "      <td>MI-BP</td>\n",
       "      <td>5.0</td>\n",
       "    </tr>\n",
       "    <tr>\n",
       "      <th>633</th>\n",
       "      <td>Spine- The dating app</td>\n",
       "      <td>5.0</td>\n",
       "    </tr>\n",
       "    <tr>\n",
       "      <th>636</th>\n",
       "      <td>Girls Live Talk - Free Text and Video Chat</td>\n",
       "      <td>5.0</td>\n",
       "    </tr>\n",
       "    <tr>\n",
       "      <th>9899</th>\n",
       "      <td>EU Exit poll</td>\n",
       "      <td>5.0</td>\n",
       "    </tr>\n",
       "  </tbody>\n",
       "</table>\n",
       "</div>"
      ],
      "text/plain": [
       "                                             App  Rating\n",
       "2533                                    Zen Leaf     5.0\n",
       "6726               COMSATS BOOK STORE FOR BS(CS)     5.0\n",
       "9247                                   EC SPORTS     5.0\n",
       "9246                                 Victoria EC     5.0\n",
       "9245                                  EC Calgary     5.0\n",
       "6604                                 BP Log lite     5.0\n",
       "6605                                       MI-BP     5.0\n",
       "633                        Spine- The dating app     5.0\n",
       "636   Girls Live Talk - Free Text and Video Chat     5.0\n",
       "9899                                EU Exit poll     5.0"
      ]
     },
     "execution_count": 62,
     "metadata": {},
     "output_type": "execute_result"
    }
   ],
   "source": [
    "## By rating\n",
    "top_10 = data[['App' , 'Rating']].sort_values(by = 'Rating', ascending = False).head(10)\n",
    "top_10"
   ]
  },
  {
   "cell_type": "code",
   "execution_count": 64,
   "id": "0f8c4b27",
   "metadata": {},
   "outputs": [
    {
     "data": {
      "image/png": "[encoded data removed]",
      "text/plain": [
       "<Figure size 640x480 with 1 Axes>"
      ]
     },
     "metadata": {},
     "output_type": "display_data"
    }
   ],
   "source": [
    "plt.bar(top_10['App'] , top_10['Rating'])\n",
    "plt.xlabel('App')\n",
    "plt.ylabel('Rating')\n",
    "plt.title(\"Top 10 Apps by Rating\")\n",
    "plt.xticks(rotation=45, ha='right')\n",
    "\n",
    "plt.show()"
   ]
  },
  {
   "cell_type": "code",
   "execution_count": 77,
   "id": "5fb98495",
   "metadata": {},
   "outputs": [
    {
     "data": {
      "text/html": [
       "<div>\n",
       "<style scoped>\n",
       "    .dataframe tbody tr th:only-of-type {\n",
       "        vertical-align: middle;\n",
       "    }\n",
       "\n",
       "    .dataframe tbody tr th {\n",
       "        vertical-align: top;\n",
       "    }\n",
       "\n",
       "    .dataframe thead th {\n",
       "        text-align: right;\n",
       "    }\n",
       "</style>\n",
       "<table border=\"1\" class=\"dataframe\">\n",
       "  <thead>\n",
       "    <tr style=\"text-align: right;\">\n",
       "      <th></th>\n",
       "      <th>App</th>\n",
       "      <th>Installs</th>\n",
       "    </tr>\n",
       "  </thead>\n",
       "  <tbody>\n",
       "    <tr>\n",
       "      <th>2544</th>\n",
       "      <td>Facebook</td>\n",
       "      <td>1000000000</td>\n",
       "    </tr>\n",
       "    <tr>\n",
       "      <th>3996</th>\n",
       "      <td>Google Chrome: Fast &amp; Secure</td>\n",
       "      <td>1000000000</td>\n",
       "    </tr>\n",
       "    <tr>\n",
       "      <th>336</th>\n",
       "      <td>WhatsApp Messenger</td>\n",
       "      <td>1000000000</td>\n",
       "    </tr>\n",
       "    <tr>\n",
       "      <th>335</th>\n",
       "      <td>Messenger – Text and Video Chat for Free</td>\n",
       "      <td>1000000000</td>\n",
       "    </tr>\n",
       "    <tr>\n",
       "      <th>2853</th>\n",
       "      <td>Google Photos</td>\n",
       "      <td>1000000000</td>\n",
       "    </tr>\n",
       "    <tr>\n",
       "      <th>152</th>\n",
       "      <td>Google Play Books</td>\n",
       "      <td>1000000000</td>\n",
       "    </tr>\n",
       "    <tr>\n",
       "      <th>3234</th>\n",
       "      <td>Google</td>\n",
       "      <td>1000000000</td>\n",
       "    </tr>\n",
       "    <tr>\n",
       "      <th>1750</th>\n",
       "      <td>Subway Surfers</td>\n",
       "      <td>1000000000</td>\n",
       "    </tr>\n",
       "    <tr>\n",
       "      <th>3117</th>\n",
       "      <td>Maps - Navigate &amp; Explore</td>\n",
       "      <td>1000000000</td>\n",
       "    </tr>\n",
       "    <tr>\n",
       "      <th>3928</th>\n",
       "      <td>YouTube</td>\n",
       "      <td>1000000000</td>\n",
       "    </tr>\n",
       "  </tbody>\n",
       "</table>\n",
       "</div>"
      ],
      "text/plain": [
       "                                           App    Installs\n",
       "2544                                  Facebook  1000000000\n",
       "3996              Google Chrome: Fast & Secure  1000000000\n",
       "336                         WhatsApp Messenger  1000000000\n",
       "335   Messenger – Text and Video Chat for Free  1000000000\n",
       "2853                             Google Photos  1000000000\n",
       "152                          Google Play Books  1000000000\n",
       "3234                                    Google  1000000000\n",
       "1750                            Subway Surfers  1000000000\n",
       "3117                 Maps - Navigate & Explore  1000000000\n",
       "3928                                   YouTube  1000000000"
      ]
     },
     "execution_count": 77,
     "metadata": {},
     "output_type": "execute_result"
    }
   ],
   "source": [
    "#By Installs\n",
    "top_10 = data[['App' , 'Installs']].sort_values(by = 'Installs', ascending = False).head(14)\n",
    "top_10.drop_duplicates(keep='first', inplace=True)\n",
    "top_10"
   ]
  },
  {
   "cell_type": "code",
   "execution_count": 80,
   "id": "e37a41d2",
   "metadata": {},
   "outputs": [
    {
     "data": {
      "image/png": "[encoded data removed]",
      "text/plain": [
       "<Figure size 700x500 with 1 Axes>"
      ]
     },
     "metadata": {},
     "output_type": "display_data"
    }
   ],
   "source": [
    "plt.figure(figsize = (7,5))\n",
    "plt.bar(top_10['App'] , top_10['Installs'])\n",
    "plt.xlabel('App')\n",
    "plt.ylabel('Installs')\n",
    "plt.title(\"Top 10 Apps by Installs\")\n",
    "plt.xticks(rotation=45, ha='right')\n",
    "\n",
    "plt.show()"
   ]
  },
  {
   "cell_type": "markdown",
   "id": "de166c90",
   "metadata": {},
   "source": [
    "## 2- What are the top 5 Categories by Rating"
   ]
  },
  {
   "cell_type": "code",
   "execution_count": 106,
   "id": "41000506",
   "metadata": {},
   "outputs": [
    {
     "data": {
      "text/html": [
       "<div>\n",
       "<style scoped>\n",
       "    .dataframe tbody tr th:only-of-type {\n",
       "        vertical-align: middle;\n",
       "    }\n",
       "\n",
       "    .dataframe tbody tr th {\n",
       "        vertical-align: top;\n",
       "    }\n",
       "\n",
       "    .dataframe thead th {\n",
       "        text-align: right;\n",
       "    }\n",
       "</style>\n",
       "<table border=\"1\" class=\"dataframe\">\n",
       "  <thead>\n",
       "    <tr style=\"text-align: right;\">\n",
       "      <th></th>\n",
       "      <th>Rating</th>\n",
       "    </tr>\n",
       "    <tr>\n",
       "      <th>Category</th>\n",
       "      <th></th>\n",
       "    </tr>\n",
       "  </thead>\n",
       "  <tbody>\n",
       "    <tr>\n",
       "      <th>EDUCATION</th>\n",
       "      <td>4.374538</td>\n",
       "    </tr>\n",
       "    <tr>\n",
       "      <th>EVENTS</th>\n",
       "      <td>4.362656</td>\n",
       "    </tr>\n",
       "    <tr>\n",
       "      <th>ART_AND_DESIGN</th>\n",
       "      <td>4.350308</td>\n",
       "    </tr>\n",
       "    <tr>\n",
       "      <th>BOOKS_AND_REFERENCE</th>\n",
       "      <td>4.311174</td>\n",
       "    </tr>\n",
       "    <tr>\n",
       "      <th>PERSONALIZATION</th>\n",
       "      <td>4.304948</td>\n",
       "    </tr>\n",
       "    <tr>\n",
       "      <th>PARENTING</th>\n",
       "      <td>4.281667</td>\n",
       "    </tr>\n",
       "    <tr>\n",
       "      <th>GAME</th>\n",
       "      <td>4.277458</td>\n",
       "    </tr>\n",
       "    <tr>\n",
       "      <th>BEAUTY</th>\n",
       "      <td>4.260189</td>\n",
       "    </tr>\n",
       "    <tr>\n",
       "      <th>HEALTH_AND_FITNESS</th>\n",
       "      <td>4.251176</td>\n",
       "    </tr>\n",
       "    <tr>\n",
       "      <th>SOCIAL</th>\n",
       "      <td>4.246571</td>\n",
       "    </tr>\n",
       "  </tbody>\n",
       "</table>\n",
       "</div>"
      ],
      "text/plain": [
       "                       Rating\n",
       "Category                     \n",
       "EDUCATION            4.374538\n",
       "EVENTS               4.362656\n",
       "ART_AND_DESIGN       4.350308\n",
       "BOOKS_AND_REFERENCE  4.311174\n",
       "PERSONALIZATION      4.304948\n",
       "PARENTING            4.281667\n",
       "GAME                 4.277458\n",
       "BEAUTY               4.260189\n",
       "HEALTH_AND_FITNESS   4.251176\n",
       "SOCIAL               4.246571"
      ]
     },
     "execution_count": 106,
     "metadata": {},
     "output_type": "execute_result"
    }
   ],
   "source": [
    "top_10 = data.groupby('Category')['Rating'].mean().nlargest(10)\n",
    "top_10 = pd.DataFrame(top_10)\n",
    "\n",
    "top_10"
   ]
  },
  {
   "cell_type": "code",
   "execution_count": 111,
   "id": "57697b60",
   "metadata": {},
   "outputs": [
    {
     "data": {
      "image/png": "[encoded data removed]",
      "text/plain": [
       "<Figure size 640x480 with 1 Axes>"
      ]
     },
     "metadata": {},
     "output_type": "display_data"
    }
   ],
   "source": [
    "ax = top_10.plot(kind='bar', xlabel='Category', ylabel='Mean Rating', title='Top 10 Categories by Mean Rating')\n",
    "\n",
    "# Set the y-axis limits\n",
    "ax.set_ylim(4, 4.5)\n",
    "# Show the plot\n",
    "plt.show()"
   ]
  },
  {
   "cell_type": "markdown",
   "id": "0e729dd4",
   "metadata": {},
   "source": [
    "## 3- Top 10 Apps by Prices\n"
   ]
  },
  {
   "cell_type": "code",
   "execution_count": 134,
   "id": "17e77a4a",
   "metadata": {},
   "outputs": [
    {
     "data": {
      "text/html": [
       "<div>\n",
       "<style scoped>\n",
       "    .dataframe tbody tr th:only-of-type {\n",
       "        vertical-align: middle;\n",
       "    }\n",
       "\n",
       "    .dataframe tbody tr th {\n",
       "        vertical-align: top;\n",
       "    }\n",
       "\n",
       "    .dataframe thead th {\n",
       "        text-align: right;\n",
       "    }\n",
       "</style>\n",
       "<table border=\"1\" class=\"dataframe\">\n",
       "  <thead>\n",
       "    <tr style=\"text-align: right;\">\n",
       "      <th></th>\n",
       "      <th>App</th>\n",
       "      <th>Price</th>\n",
       "    </tr>\n",
       "  </thead>\n",
       "  <tbody>\n",
       "    <tr>\n",
       "      <th>4362</th>\n",
       "      <td>💎 I'm rich</td>\n",
       "      <td>399.99</td>\n",
       "    </tr>\n",
       "    <tr>\n",
       "      <th>5373</th>\n",
       "      <td>I AM RICH PRO PLUS</td>\n",
       "      <td>399.99</td>\n",
       "    </tr>\n",
       "    <tr>\n",
       "      <th>4197</th>\n",
       "      <td>most expensive app (H)</td>\n",
       "      <td>399.99</td>\n",
       "    </tr>\n",
       "    <tr>\n",
       "      <th>9917</th>\n",
       "      <td>Eu Sou Rico</td>\n",
       "      <td>394.99</td>\n",
       "    </tr>\n",
       "    <tr>\n",
       "      <th>5357</th>\n",
       "      <td>I am extremely Rich</td>\n",
       "      <td>379.99</td>\n",
       "    </tr>\n",
       "    <tr>\n",
       "      <th>9719</th>\n",
       "      <td>EP Cook Book</td>\n",
       "      <td>200.00</td>\n",
       "    </tr>\n",
       "    <tr>\n",
       "      <th>6692</th>\n",
       "      <td>cronometra-br</td>\n",
       "      <td>154.99</td>\n",
       "    </tr>\n",
       "    <tr>\n",
       "      <th>6624</th>\n",
       "      <td>BP Fitness Lead Scanner</td>\n",
       "      <td>109.99</td>\n",
       "    </tr>\n",
       "    <tr>\n",
       "      <th>9730</th>\n",
       "      <td>Lean EQ</td>\n",
       "      <td>89.99</td>\n",
       "    </tr>\n",
       "    <tr>\n",
       "      <th>2253</th>\n",
       "      <td>Vargo Anesthesia Mega App</td>\n",
       "      <td>79.99</td>\n",
       "    </tr>\n",
       "  </tbody>\n",
       "</table>\n",
       "</div>"
      ],
      "text/plain": [
       "                            App   Price\n",
       "4362                 💎 I'm rich  399.99\n",
       "5373         I AM RICH PRO PLUS  399.99\n",
       "4197     most expensive app (H)  399.99\n",
       "9917                Eu Sou Rico  394.99\n",
       "5357        I am extremely Rich  379.99\n",
       "9719               EP Cook Book  200.00\n",
       "6692              cronometra-br  154.99\n",
       "6624    BP Fitness Lead Scanner  109.99\n",
       "9730                    Lean EQ   89.99\n",
       "2253  Vargo Anesthesia Mega App   79.99"
      ]
     },
     "execution_count": 134,
     "metadata": {},
     "output_type": "execute_result"
    }
   ],
   "source": [
    "top_10 = data[['App' , 'Price']].sort_values(by = 'Price', ascending = False).head(10)\n",
    "top_10"
   ]
  },
  {
   "cell_type": "code",
   "execution_count": 135,
   "id": "fcf16310",
   "metadata": {},
   "outputs": [
    {
     "name": "stderr",
     "output_type": "stream",
     "text": [
      "2024-03-05 22:41:57,875 [15744] WARNING  py.warnings:109: [JupyterRequire] C:\\Users\\HP\\anaconda3\\lib\\site-packages\\IPython\\core\\pylabtools.py:151: UserWarning: Glyph 128142 (\\N{GEM STONE}) missing from current font.\n",
      "  fig.canvas.print_figure(bytes_io, **kw)\n",
      "\n"
     ]
    },
    {
     "data": {
      "image/png": "[encoded data removed]",
      "text/plain": [
       "<Figure size 640x480 with 1 Axes>"
      ]
     },
     "metadata": {},
     "output_type": "display_data"
    }
   ],
   "source": [
    "plt.bar(top_10['App'] , top_10['Price'])\n",
    "plt.title('Top 10 apps by Price')\n",
    "plt.xlabel('App Name')\n",
    "plt.ylabel('Price')\n",
    "plt.xticks(rotation = 45, ha = 'right')\n",
    "# Show the plot\n",
    "plt.show()"
   ]
  },
  {
   "cell_type": "markdown",
   "id": "1b223800",
   "metadata": {},
   "source": [
    "## 4- Which Category apps has highest number of paid apps?"
   ]
  },
  {
   "cell_type": "code",
   "execution_count": 143,
   "id": "3f7ae61f",
   "metadata": {},
   "outputs": [
    {
     "data": {
      "text/html": [
       "<div>\n",
       "<style scoped>\n",
       "    .dataframe tbody tr th:only-of-type {\n",
       "        vertical-align: middle;\n",
       "    }\n",
       "\n",
       "    .dataframe tbody tr th {\n",
       "        vertical-align: top;\n",
       "    }\n",
       "\n",
       "    .dataframe thead th {\n",
       "        text-align: right;\n",
       "    }\n",
       "</style>\n",
       "<table border=\"1\" class=\"dataframe\">\n",
       "  <thead>\n",
       "    <tr style=\"text-align: right;\">\n",
       "      <th></th>\n",
       "      <th>Category</th>\n",
       "    </tr>\n",
       "  </thead>\n",
       "  <tbody>\n",
       "    <tr>\n",
       "      <th>FAMILY</th>\n",
       "      <td>184</td>\n",
       "    </tr>\n",
       "  </tbody>\n",
       "</table>\n",
       "</div>"
      ],
      "text/plain": [
       "        Category\n",
       "FAMILY       184"
      ]
     },
     "execution_count": 143,
     "metadata": {},
     "output_type": "execute_result"
    }
   ],
   "source": [
    "paid_apps = data[data['Type'] == 'Paid']\n",
    "top_app = paid_apps['Category'].value_counts().head(1)\n",
    "top_app = pd.DataFrame(top_app)\n",
    "top_app"
   ]
  },
  {
   "cell_type": "markdown",
   "id": "38212e23",
   "metadata": {},
   "source": [
    "Hence Family Category apps have higher number of paid apps\n"
   ]
  },
  {
   "cell_type": "markdown",
   "id": "f074a662",
   "metadata": {},
   "source": [
    "## 5- Compare the apps by downloads specifically built for different ages people."
   ]
  },
  {
   "cell_type": "markdown",
   "id": "8116cd3c",
   "metadata": {},
   "source": [
    "As there is a huge difference between in numbers of apps or different ages in the dataset, so we will just find the mean of each category to find the average installs for each age group app"
   ]
  },
  {
   "cell_type": "code",
   "execution_count": 147,
   "id": "eece18df",
   "metadata": {},
   "outputs": [
    {
     "data": {
      "text/html": [
       "<div>\n",
       "<style scoped>\n",
       "    .dataframe tbody tr th:only-of-type {\n",
       "        vertical-align: middle;\n",
       "    }\n",
       "\n",
       "    .dataframe tbody tr th {\n",
       "        vertical-align: top;\n",
       "    }\n",
       "\n",
       "    .dataframe thead th {\n",
       "        text-align: right;\n",
       "    }\n",
       "</style>\n",
       "<table border=\"1\" class=\"dataframe\">\n",
       "  <thead>\n",
       "    <tr style=\"text-align: right;\">\n",
       "      <th></th>\n",
       "      <th>Installs</th>\n",
       "    </tr>\n",
       "    <tr>\n",
       "      <th>Content Rating</th>\n",
       "      <th></th>\n",
       "    </tr>\n",
       "  </thead>\n",
       "  <tbody>\n",
       "    <tr>\n",
       "      <th>Adults only 18+</th>\n",
       "      <td>6.666667e+05</td>\n",
       "    </tr>\n",
       "    <tr>\n",
       "      <th>Everyone</th>\n",
       "      <td>1.197674e+07</td>\n",
       "    </tr>\n",
       "    <tr>\n",
       "      <th>Everyone 10+</th>\n",
       "      <td>2.968507e+07</td>\n",
       "    </tr>\n",
       "    <tr>\n",
       "      <th>Mature 17+</th>\n",
       "      <td>9.598874e+06</td>\n",
       "    </tr>\n",
       "    <tr>\n",
       "      <th>Teen</th>\n",
       "      <td>2.700286e+07</td>\n",
       "    </tr>\n",
       "    <tr>\n",
       "      <th>Unrated</th>\n",
       "      <td>2.525000e+04</td>\n",
       "    </tr>\n",
       "  </tbody>\n",
       "</table>\n",
       "</div>"
      ],
      "text/plain": [
       "                     Installs\n",
       "Content Rating               \n",
       "Adults only 18+  6.666667e+05\n",
       "Everyone         1.197674e+07\n",
       "Everyone 10+     2.968507e+07\n",
       "Mature 17+       9.598874e+06\n",
       "Teen             2.700286e+07\n",
       "Unrated          2.525000e+04"
      ]
     },
     "execution_count": 147,
     "metadata": {},
     "output_type": "execute_result"
    }
   ],
   "source": [
    "by_age = data.groupby('Content Rating')['Installs'].mean()\n",
    "by_age = pd.DataFrame(by_age)\n",
    "by_age"
   ]
  },
  {
   "cell_type": "code",
   "execution_count": 151,
   "id": "a1c77cf9",
   "metadata": {},
   "outputs": [
    {
     "data": {
      "image/png": "[encoded data removed]",
      "text/plain": [
       "<Figure size 640x480 with 1 Axes>"
      ]
     },
     "metadata": {},
     "output_type": "display_data"
    }
   ],
   "source": [
    "ax = by_age.plot(kind = 'bar', xlabel = 'Content Rating', ylabel = 'Average Installs')\n",
    "plt.show()"
   ]
  },
  {
   "cell_type": "markdown",
   "id": "1adbcd81",
   "metadata": {},
   "source": [
    "Hence, Everyoe 10+ category has highest installs"
   ]
  },
  {
   "cell_type": "markdown",
   "id": "e1f3b3b4",
   "metadata": {},
   "source": [
    "## 6- Which szie apps are more downloaded"
   ]
  },
  {
   "cell_type": "code",
   "execution_count": 160,
   "id": "ac96fb79",
   "metadata": {},
   "outputs": [
    {
     "data": {
      "text/html": [
       "<div>\n",
       "<style scoped>\n",
       "    .dataframe tbody tr th:only-of-type {\n",
       "        vertical-align: middle;\n",
       "    }\n",
       "\n",
       "    .dataframe tbody tr th {\n",
       "        vertical-align: top;\n",
       "    }\n",
       "\n",
       "    .dataframe thead th {\n",
       "        text-align: right;\n",
       "    }\n",
       "</style>\n",
       "<table border=\"1\" class=\"dataframe\">\n",
       "  <thead>\n",
       "    <tr style=\"text-align: right;\">\n",
       "      <th></th>\n",
       "      <th>Installs</th>\n",
       "    </tr>\n",
       "    <tr>\n",
       "      <th>Size</th>\n",
       "      <th></th>\n",
       "    </tr>\n",
       "  </thead>\n",
       "  <tbody>\n",
       "    <tr>\n",
       "      <th>Varies with device</th>\n",
       "      <td>8.854259e+10</td>\n",
       "    </tr>\n",
       "    <tr>\n",
       "      <th>76M</th>\n",
       "      <td>5.189110e+09</td>\n",
       "    </tr>\n",
       "    <tr>\n",
       "      <th>13M</th>\n",
       "      <td>3.621252e+09</td>\n",
       "    </tr>\n",
       "    <tr>\n",
       "      <th>74M</th>\n",
       "      <td>2.827111e+09</td>\n",
       "    </tr>\n",
       "    <tr>\n",
       "      <th>24M</th>\n",
       "      <td>2.659222e+09</td>\n",
       "    </tr>\n",
       "  </tbody>\n",
       "</table>\n",
       "</div>"
      ],
      "text/plain": [
       "                        Installs\n",
       "Size                            \n",
       "Varies with device  8.854259e+10\n",
       "76M                 5.189110e+09\n",
       "13M                 3.621252e+09\n",
       "74M                 2.827111e+09\n",
       "24M                 2.659222e+09"
      ]
     },
     "execution_count": 160,
     "metadata": {},
     "output_type": "execute_result"
    }
   ],
   "source": [
    "by_size = data.groupby('Size')['Installs'].sum()\n",
    "by_size = pd.DataFrame(by_size)\n",
    "by_size = by_size.sort_values('Installs', ascending = False)\n",
    "by_size.head(5)"
   ]
  },
  {
   "cell_type": "markdown",
   "id": "fb16b113",
   "metadata": {},
   "source": [
    "Hence, apps with size that varies with each device are mostly downloaded by people"
   ]
  },
  {
   "cell_type": "markdown",
   "id": "00795f80",
   "metadata": {},
   "source": [
    "## 7- Which genre apps have recieved highest reviews count?"
   ]
  },
  {
   "cell_type": "code",
   "execution_count": 176,
   "id": "fe702a7f",
   "metadata": {},
   "outputs": [
    {
     "data": {
      "text/html": [
       "<div>\n",
       "<style scoped>\n",
       "    .dataframe tbody tr th:only-of-type {\n",
       "        vertical-align: middle;\n",
       "    }\n",
       "\n",
       "    .dataframe tbody tr th {\n",
       "        vertical-align: top;\n",
       "    }\n",
       "\n",
       "    .dataframe thead th {\n",
       "        text-align: right;\n",
       "    }\n",
       "</style>\n",
       "<table border=\"1\" class=\"dataframe\">\n",
       "  <thead>\n",
       "    <tr style=\"text-align: right;\">\n",
       "      <th></th>\n",
       "      <th>Reviews</th>\n",
       "    </tr>\n",
       "    <tr>\n",
       "      <th>Genres</th>\n",
       "      <th></th>\n",
       "    </tr>\n",
       "  </thead>\n",
       "  <tbody>\n",
       "    <tr>\n",
       "      <th>Adventure;Action &amp; Adventure</th>\n",
       "      <td>3.087739e+06</td>\n",
       "    </tr>\n",
       "    <tr>\n",
       "      <th>Strategy</th>\n",
       "      <td>2.649896e+06</td>\n",
       "    </tr>\n",
       "    <tr>\n",
       "      <th>Casual</th>\n",
       "      <td>1.922619e+06</td>\n",
       "    </tr>\n",
       "    <tr>\n",
       "      <th>Social</th>\n",
       "      <td>1.905632e+06</td>\n",
       "    </tr>\n",
       "    <tr>\n",
       "      <th>Casual;Action &amp; Adventure</th>\n",
       "      <td>1.797712e+06</td>\n",
       "    </tr>\n",
       "  </tbody>\n",
       "</table>\n",
       "</div>"
      ],
      "text/plain": [
       "                                   Reviews\n",
       "Genres                                    \n",
       "Adventure;Action & Adventure  3.087739e+06\n",
       "Strategy                      2.649896e+06\n",
       "Casual                        1.922619e+06\n",
       "Social                        1.905632e+06\n",
       "Casual;Action & Adventure     1.797712e+06"
      ]
     },
     "execution_count": 176,
     "metadata": {},
     "output_type": "execute_result"
    }
   ],
   "source": [
    "by_genre = data.groupby('Genres')['Reviews'].mean()\n",
    "by_genre = pd.DataFrame(by_genre)\n",
    "by_genre = by_genre.sort_values('Reviews', ascending = False)\n",
    "by_genre.head()"
   ]
  },
  {
   "cell_type": "markdown",
   "id": "99325ce2",
   "metadata": {},
   "source": [
    "Hence \"Adventure;Action & Adventure\" Genre Apps have recieved highest number of reviews"
   ]
  },
  {
   "cell_type": "code",
   "execution_count": 177,
   "id": "57e5428c",
   "metadata": {},
   "outputs": [
    {
     "data": {
      "text/plain": [
       "(array([-0.5,  0. ,  0.5,  1. ,  1.5,  2. ,  2.5,  3. ,  3.5,  4. ,  4.5]),\n",
       " [Text(-0.5, 0, ''),\n",
       "  Text(0.0, 0, 'Adventure;Action & Adventure'),\n",
       "  Text(0.5, 0, ''),\n",
       "  Text(1.0, 0, 'Strategy'),\n",
       "  Text(1.5, 0, ''),\n",
       "  Text(2.0, 0, 'Casual'),\n",
       "  Text(2.5, 0, ''),\n",
       "  Text(3.0, 0, 'Social'),\n",
       "  Text(3.5, 0, ''),\n",
       "  Text(4.0, 0, 'Casual;Action & Adventure'),\n",
       "  Text(4.5, 0, '')])"
      ]
     },
     "execution_count": 177,
     "metadata": {},
     "output_type": "execute_result"
    },
    {
     "data": {
      "image/png": "[encoded data removed]",
      "text/plain": [
       "<Figure size 640x480 with 1 Axes>"
      ]
     },
     "metadata": {},
     "output_type": "display_data"
    }
   ],
   "source": [
    "by_genre.head().plot(kind = 'line', xlabel = 'Genre', ylabel = 'Review Count')\n",
    "plt.xticks(rotation = 45, ha = 'right')"
   ]
  },
  {
   "cell_type": "markdown",
   "id": "5f49c829",
   "metadata": {},
   "source": [
    "## 8- Are paid apps really worthy to download"
   ]
  },
  {
   "cell_type": "markdown",
   "id": "80a6c1aa",
   "metadata": {},
   "source": [
    "Showing the average, minimum and maximum values of rating of Paid apps\n"
   ]
  },
  {
   "cell_type": "code",
   "execution_count": 202,
   "id": "522d22d0",
   "metadata": {},
   "outputs": [
    {
     "data": {
      "text/html": [
       "<div>\n",
       "<style scoped>\n",
       "    .dataframe tbody tr th:only-of-type {\n",
       "        vertical-align: middle;\n",
       "    }\n",
       "\n",
       "    .dataframe tbody tr th {\n",
       "        vertical-align: top;\n",
       "    }\n",
       "\n",
       "    .dataframe thead th {\n",
       "        text-align: right;\n",
       "    }\n",
       "</style>\n",
       "<table border=\"1\" class=\"dataframe\">\n",
       "  <thead>\n",
       "    <tr style=\"text-align: right;\">\n",
       "      <th></th>\n",
       "      <th>Type</th>\n",
       "      <th>Rating</th>\n",
       "    </tr>\n",
       "  </thead>\n",
       "  <tbody>\n",
       "    <tr>\n",
       "      <th>4452</th>\n",
       "      <td>Paid</td>\n",
       "      <td>5.0</td>\n",
       "    </tr>\n",
       "    <tr>\n",
       "      <th>4988</th>\n",
       "      <td>Paid</td>\n",
       "      <td>5.0</td>\n",
       "    </tr>\n",
       "    <tr>\n",
       "      <th>7100</th>\n",
       "      <td>Paid</td>\n",
       "      <td>5.0</td>\n",
       "    </tr>\n",
       "    <tr>\n",
       "      <th>9039</th>\n",
       "      <td>Paid</td>\n",
       "      <td>5.0</td>\n",
       "    </tr>\n",
       "    <tr>\n",
       "      <th>7204</th>\n",
       "      <td>Paid</td>\n",
       "      <td>5.0</td>\n",
       "    </tr>\n",
       "    <tr>\n",
       "      <th>...</th>\n",
       "      <td>...</td>\n",
       "      <td>...</td>\n",
       "    </tr>\n",
       "    <tr>\n",
       "      <th>7658</th>\n",
       "      <td>Paid</td>\n",
       "      <td>2.0</td>\n",
       "    </tr>\n",
       "    <tr>\n",
       "      <th>4161</th>\n",
       "      <td>Paid</td>\n",
       "      <td>1.8</td>\n",
       "    </tr>\n",
       "    <tr>\n",
       "      <th>6948</th>\n",
       "      <td>Paid</td>\n",
       "      <td>1.7</td>\n",
       "    </tr>\n",
       "    <tr>\n",
       "      <th>5978</th>\n",
       "      <td>Paid</td>\n",
       "      <td>1.0</td>\n",
       "    </tr>\n",
       "    <tr>\n",
       "      <th>4127</th>\n",
       "      <td>Paid</td>\n",
       "      <td>1.0</td>\n",
       "    </tr>\n",
       "  </tbody>\n",
       "</table>\n",
       "<p>751 rows × 2 columns</p>\n",
       "</div>"
      ],
      "text/plain": [
       "      Type  Rating\n",
       "4452  Paid     5.0\n",
       "4988  Paid     5.0\n",
       "7100  Paid     5.0\n",
       "9039  Paid     5.0\n",
       "7204  Paid     5.0\n",
       "...    ...     ...\n",
       "7658  Paid     2.0\n",
       "4161  Paid     1.8\n",
       "6948  Paid     1.7\n",
       "5978  Paid     1.0\n",
       "4127  Paid     1.0\n",
       "\n",
       "[751 rows x 2 columns]"
      ]
     },
     "execution_count": 202,
     "metadata": {},
     "output_type": "execute_result"
    }
   ],
   "source": [
    "paid_apps = data[['Type','Rating']]\n",
    "paid_apps = paid_apps[paid_apps['Type'] == 'Paid']\n",
    "paid_apps.sort_values('Rating', ascending  = False)"
   ]
  },
  {
   "cell_type": "code",
   "execution_count": 203,
   "id": "1a8e8860",
   "metadata": {},
   "outputs": [
    {
     "data": {
      "image/png": "[encoded data removed]",
      "text/plain": [
       "<Figure size 640x480 with 1 Axes>"
      ]
     },
     "metadata": {},
     "output_type": "display_data"
    }
   ],
   "source": [
    "grouped_data = paid_apps.groupby('Rating')['Type'].value_counts().reset_index(name='Count')\n",
    "sns.lineplot(data=grouped_data, x='Rating', y='Count', hue='Type')\n",
    "plt.show()"
   ]
  },
  {
   "cell_type": "markdown",
   "id": "ebd7f0b7",
   "metadata": {},
   "source": [
    "It can be seen that the paid apps have mostly rating of greater than 4\n"
   ]
  },
  {
   "cell_type": "markdown",
   "id": "1c31c644",
   "metadata": {},
   "source": [
    "## 9- Which android version is mostly compatible for apps?"
   ]
  },
  {
   "cell_type": "code",
   "execution_count": 212,
   "id": "5f0e3f60",
   "metadata": {},
   "outputs": [],
   "source": [
    "And = data[['Android Ver']].groupby('Android Ver').value_counts().sort_values(ascending = False)\n",
    "And = pd.DataFrame(And)"
   ]
  },
  {
   "cell_type": "code",
   "execution_count": 214,
   "id": "9568247b",
   "metadata": {},
   "outputs": [
    {
     "data": {
      "text/html": [
       "<div>\n",
       "<style scoped>\n",
       "    .dataframe tbody tr th:only-of-type {\n",
       "        vertical-align: middle;\n",
       "    }\n",
       "\n",
       "    .dataframe tbody tr th {\n",
       "        vertical-align: top;\n",
       "    }\n",
       "\n",
       "    .dataframe thead th {\n",
       "        text-align: right;\n",
       "    }\n",
       "</style>\n",
       "<table border=\"1\" class=\"dataframe\">\n",
       "  <thead>\n",
       "    <tr style=\"text-align: right;\">\n",
       "      <th></th>\n",
       "      <th>0</th>\n",
       "    </tr>\n",
       "    <tr>\n",
       "      <th>Android Ver</th>\n",
       "      <th></th>\n",
       "    </tr>\n",
       "  </thead>\n",
       "  <tbody>\n",
       "    <tr>\n",
       "      <th>4.1 and up</th>\n",
       "      <td>2378</td>\n",
       "    </tr>\n",
       "    <tr>\n",
       "      <th>4.0.3 and up</th>\n",
       "      <td>1447</td>\n",
       "    </tr>\n",
       "    <tr>\n",
       "      <th>4.0 and up</th>\n",
       "      <td>1336</td>\n",
       "    </tr>\n",
       "    <tr>\n",
       "      <th>Varies with device</th>\n",
       "      <td>1221</td>\n",
       "    </tr>\n",
       "    <tr>\n",
       "      <th>4.4 and up</th>\n",
       "      <td>891</td>\n",
       "    </tr>\n",
       "  </tbody>\n",
       "</table>\n",
       "</div>"
      ],
      "text/plain": [
       "                       0\n",
       "Android Ver             \n",
       "4.1 and up          2378\n",
       "4.0.3 and up        1447\n",
       "4.0 and up          1336\n",
       "Varies with device  1221\n",
       "4.4 and up           891"
      ]
     },
     "execution_count": 214,
     "metadata": {},
     "output_type": "execute_result"
    }
   ],
   "source": [
    "And.head()"
   ]
  },
  {
   "cell_type": "code",
   "execution_count": 215,
   "id": "7c0a056b",
   "metadata": {},
   "outputs": [
    {
     "data": {
      "text/plain": [
       "<AxesSubplot:xlabel='Android Ver'>"
      ]
     },
     "execution_count": 215,
     "metadata": {},
     "output_type": "execute_result"
    },
    {
     "data": {
      "image/png": "[encoded data removed]",
      "text/plain": [
       "<Figure size 640x480 with 1 Axes>"
      ]
     },
     "metadata": {},
     "output_type": "display_data"
    }
   ],
   "source": [
    "And.head().plot(kind = 'bar')"
   ]
  },
  {
   "cell_type": "markdown",
   "id": "dcb735ac",
   "metadata": {},
   "source": [
    "Hence It can be seen that ANdroid Version 4.1 and up is mostly compatible for most kind of apps"
   ]
  },
  {
   "cell_type": "markdown",
   "id": "3254cc00",
   "metadata": {},
   "source": [
    "## 10- Which age group apps are mostly downloaded?"
   ]
  },
  {
   "cell_type": "code",
   "execution_count": 217,
   "id": "917779a7",
   "metadata": {},
   "outputs": [],
   "source": [
    "Age_trend = data[['Content Rating','Installs']].groupby('Content Rating').mean()"
   ]
  },
  {
   "cell_type": "code",
   "execution_count": 222,
   "id": "5e269782",
   "metadata": {},
   "outputs": [
    {
     "data": {
      "text/html": [
       "<div>\n",
       "<style scoped>\n",
       "    .dataframe tbody tr th:only-of-type {\n",
       "        vertical-align: middle;\n",
       "    }\n",
       "\n",
       "    .dataframe tbody tr th {\n",
       "        vertical-align: top;\n",
       "    }\n",
       "\n",
       "    .dataframe thead th {\n",
       "        text-align: right;\n",
       "    }\n",
       "</style>\n",
       "<table border=\"1\" class=\"dataframe\">\n",
       "  <thead>\n",
       "    <tr style=\"text-align: right;\">\n",
       "      <th></th>\n",
       "      <th>Installs</th>\n",
       "    </tr>\n",
       "    <tr>\n",
       "      <th>Content Rating</th>\n",
       "      <th></th>\n",
       "    </tr>\n",
       "  </thead>\n",
       "  <tbody>\n",
       "    <tr>\n",
       "      <th>Everyone 10+</th>\n",
       "      <td>2.968507e+07</td>\n",
       "    </tr>\n",
       "    <tr>\n",
       "      <th>Teen</th>\n",
       "      <td>2.700286e+07</td>\n",
       "    </tr>\n",
       "    <tr>\n",
       "      <th>Everyone</th>\n",
       "      <td>1.197674e+07</td>\n",
       "    </tr>\n",
       "    <tr>\n",
       "      <th>Mature 17+</th>\n",
       "      <td>9.598874e+06</td>\n",
       "    </tr>\n",
       "    <tr>\n",
       "      <th>Adults only 18+</th>\n",
       "      <td>6.666667e+05</td>\n",
       "    </tr>\n",
       "    <tr>\n",
       "      <th>Unrated</th>\n",
       "      <td>2.525000e+04</td>\n",
       "    </tr>\n",
       "  </tbody>\n",
       "</table>\n",
       "</div>"
      ],
      "text/plain": [
       "                     Installs\n",
       "Content Rating               \n",
       "Everyone 10+     2.968507e+07\n",
       "Teen             2.700286e+07\n",
       "Everyone         1.197674e+07\n",
       "Mature 17+       9.598874e+06\n",
       "Adults only 18+  6.666667e+05\n",
       "Unrated          2.525000e+04"
      ]
     },
     "execution_count": 222,
     "metadata": {},
     "output_type": "execute_result"
    }
   ],
   "source": [
    "Age_trend = Age_trend.sort_values(by = 'Installs', ascending = False)\n",
    "Age_trend"
   ]
  },
  {
   "cell_type": "code",
   "execution_count": 223,
   "id": "7f68d763",
   "metadata": {},
   "outputs": [
    {
     "data": {
      "text/plain": [
       "<AxesSubplot:xlabel='Content Rating'>"
      ]
     },
     "execution_count": 223,
     "metadata": {},
     "output_type": "execute_result"
    },
    {
     "data": {
      "image/png": "[encoded data removed]",
      "text/plain": [
       "<Figure size 640x480 with 1 Axes>"
      ]
     },
     "metadata": {},
     "output_type": "display_data"
    }
   ],
   "source": [
    "Age_trend.plot(kind = 'bar')"
   ]
  },
  {
   "cell_type": "markdown",
   "id": "5744b72d",
   "metadata": {},
   "source": [
    "Hence it can be seen that the apps that are made for 10+ years audience are mostly downloaded"
   ]
  },
  {
   "cell_type": "markdown",
   "id": "25519b02",
   "metadata": {},
   "source": [
    "# Conclusion"
   ]
  },
  {
   "cell_type": "markdown",
   "id": "21a2277e",
   "metadata": {},
   "source": [
    "All of these insights can help an Android Developer that is looking to launch his own app. He can now decide that what kind of app he should develop to gain audience. Whether it should be paid or not. If he wants to upload a paid app, then he should also look after its quality as most of the paid apps have rating of more than 4.0.  \n",
    "He can also now decide that whehter he should build an app for 10+ aged people of for teens. He can also choose the genre based on the statistics.  \n",
    "In short, it is basically for those people who wants to build an app to upload but they don't know what kind of app he should build."
   ]
  },
  {
   "cell_type": "code",
   "execution_count": null,
   "id": "f1ea3b53",
   "metadata": {},
   "outputs": [],
   "source": []
  }
 ],
 "metadata": {
  "kernelspec": {
   "display_name": "Python 3 (ipykernel)",
   "language": "python",
   "name": "python3"
  },
  "language_info": {
   "codemirror_mode": {
    "name": "ipython",
    "version": 3
   },
   "file_extension": ".py",
   "mimetype": "text/x-python",
   "name": "python",
   "nbconvert_exporter": "python",
   "pygments_lexer": "ipython3",
   "version": "3.9.13"
  }
 },
 "nbformat": 4,
 "nbformat_minor": 5
}
